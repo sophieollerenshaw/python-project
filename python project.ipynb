{
 "cells": [
  {
   "cell_type": "code",
   "execution_count": 5,
   "metadata": {},
   "outputs": [],
   "source": [
    "import matplotlib.pyplot as plt\n",
    "import seaborn as sns\n",
    "plt.style.use('/Users/Oller/Downloads/Datern.mplstyle')\n",
    "\n",
    "import numpy as np\n",
    "import pandas as pd\n",
    "\n",
    "#Gradient colours\n",
    "from matplotlib.colors import LinearSegmentedColormap\n",
    "nodes = [0, 0.5,1.0]\n",
    "color = ['#00ACF0','#ffffff','#A834FF']\n",
    "cmap = LinearSegmentedColormap.from_list(\"\", list(zip(nodes, color)))\n",
    "\n",
    "%config InlineBackend.figure_format='retina'"
   ]
  },
  {
   "cell_type": "code",
   "execution_count": 9,
   "metadata": {},
   "outputs": [],
   "source": [
    "df = pd.read_csv(\"/Users/Oller/Downloads/Kaggle_Datern_Training_Set.csv\")"
   ]
  },
  {
   "cell_type": "code",
   "execution_count": 10,
   "metadata": {},
   "outputs": [
    {
     "name": "stdout",
     "output_type": "stream",
     "text": [
      "<class 'pandas.core.frame.DataFrame'>\n",
      "RangeIndex: 15966 entries, 0 to 15965\n",
      "Data columns (total 14 columns):\n",
      " #   Column           Non-Null Count  Dtype  \n",
      "---  ------           --------------  -----  \n",
      " 0   ID               15966 non-null  int64  \n",
      " 1   Name             15964 non-null  object \n",
      " 2   Platform         15966 non-null  object \n",
      " 3   Year_of_Release  15720 non-null  float64\n",
      " 4   Genre            15964 non-null  object \n",
      " 5   Publisher        15918 non-null  object \n",
      " 6   EU_Sales         15966 non-null  float64\n",
      " 7   Global_Sales     15966 non-null  float64\n",
      " 8   Critic_Score     7771 non-null   float64\n",
      " 9   Critic_Count     7771 non-null   float64\n",
      " 10  User_Score       9545 non-null   object \n",
      " 11  User_Count       7161 non-null   float64\n",
      " 12  Developer        9608 non-null   object \n",
      " 13  Rating           9496 non-null   object \n",
      "dtypes: float64(6), int64(1), object(7)\n",
      "memory usage: 1.7+ MB\n"
     ]
    }
   ],
   "source": [
    "df.head()\n",
    "df.info()\n"
   ]
  },
  {
   "cell_type": "code",
   "execution_count": 13,
   "metadata": {},
   "outputs": [],
   "source": [
    "#cleaning data\n",
    "\n",
    "\n",
    "\n",
    "df = pd.read_csv(\"/Users/Oller/Downloads/Kaggle_Datern_Training_Set.csv\")\n",
    "df.reset_index(drop=True)\n",
    "df_populated =df.dropna()\n",
    "df_populated_indexed = df_populated.reset_index(drop=True)\n",
    "new_df = df_populated_indexed"
   ]
  },
  {
   "cell_type": "code",
   "execution_count": 12,
   "metadata": {},
   "outputs": [
    {
     "name": "stdout",
     "output_type": "stream",
     "text": [
      "<class 'pandas.core.frame.DataFrame'>\n",
      "Int64Index: 6492 entries, 246 to 15842\n",
      "Data columns (total 14 columns):\n",
      " #   Column           Non-Null Count  Dtype  \n",
      "---  ------           --------------  -----  \n",
      " 0   ID               6492 non-null   int64  \n",
      " 1   Name             6492 non-null   object \n",
      " 2   Platform         6492 non-null   object \n",
      " 3   Year_of_Release  6492 non-null   float64\n",
      " 4   Genre            6492 non-null   object \n",
      " 5   Publisher        6492 non-null   object \n",
      " 6   EU_Sales         6492 non-null   float64\n",
      " 7   Global_Sales     6492 non-null   float64\n",
      " 8   Critic_Score     6492 non-null   float64\n",
      " 9   Critic_Count     6492 non-null   float64\n",
      " 10  User_Score       6492 non-null   object \n",
      " 11  User_Count       6492 non-null   float64\n",
      " 12  Developer        6492 non-null   object \n",
      " 13  Rating           6492 non-null   object \n",
      "dtypes: float64(6), int64(1), object(7)\n",
      "memory usage: 760.8+ KB\n"
     ]
    }
   ],
   "source": [
    "new_df.head()\n",
    "new_df.info()"
   ]
  },
  {
   "cell_type": "code",
   "execution_count": 17,
   "metadata": {},
   "outputs": [],
   "source": [
    "#encoding data for platform genre and rating\n",
    "# Encoding Platform\n",
    "from sklearn.preprocessing import LabelEncoder\n",
    "labelencoder1 = LabelEncoder()\n",
    "df_populated_indexed.iloc[:, 2] = labelencoder1.fit_transform(df_populated_indexed.iloc[:, 2])\n",
    "\n",
    "\n",
    "#encoding genre\n",
    "labelencoder1 = LabelEncoder()\n",
    "df_populated_indexed.iloc[:, 4] = labelencoder1.fit_transform(df_populated_indexed.iloc[:, 4])\n",
    "\n",
    "#encoding rating \n",
    "labelencoder1 = LabelEncoder()\n",
    "df_populated_indexed.iloc[:, 13] = labelencoder1.fit_transform(df_populated_indexed.iloc[:, 13])"
   ]
  },
  {
   "cell_type": "code",
   "execution_count": 23,
   "metadata": {},
   "outputs": [
    {
     "name": "stdout",
     "output_type": "stream",
     "text": [
      "         ID                                  Name  Platform  Year_of_Release  \\\n",
      "0      8200                           NBA Live 16         9           2015.0   \n",
      "1      8251                       Toukiden Kiwami         9           2015.0   \n",
      "2      8369                 Bladestorm: Nightmare         9           2015.0   \n",
      "3      8423  Mobile Suit Gundam: Extreme VS Force        11           2015.0   \n",
      "4      8448          One Piece: Pirate Warriors 3        11           2015.0   \n",
      "...     ...                                   ...       ...              ...   \n",
      "6487   9216         Super Puzzle Fighter II Turbo         6           1996.0   \n",
      "6488   1568                Battle Arena Toshinden         6           1994.0   \n",
      "6489  14613                                  Doom         5           1992.0   \n",
      "6490  14624                               SimCity         5           1988.0   \n",
      "6491  14473                             Alter Ego         5           1985.0   \n",
      "\n",
      "      Genre                    Publisher  EU_Sales  Global_Sales  \\\n",
      "0        10              Electronic Arts      0.04          0.18   \n",
      "1         0                   Tecmo Koei      0.07          0.17   \n",
      "2         0                   Tecmo Koei      0.04          0.17   \n",
      "3         0           Namco Bandai Games      0.00          0.17   \n",
      "4         0           Namco Bandai Games      0.03          0.17   \n",
      "...     ...                          ...       ...           ...   \n",
      "6487      5           Virgin Interactive      0.05          0.14   \n",
      "6488      2  Sony Computer Entertainment      0.26          1.27   \n",
      "6489      8                  id Software      0.00          0.03   \n",
      "6490      9                        Maxis      0.02          0.03   \n",
      "6491      9                   Activision      0.03          0.03   \n",
      "\n",
      "      Critic_Score  Critic_Count User_Score  User_Count  \\\n",
      "0             59.0          27.0        6.1        70.0   \n",
      "1             74.0          35.0        7.6        74.0   \n",
      "2             58.0          33.0        6.5        21.0   \n",
      "3             57.0          25.0        7.3        15.0   \n",
      "4             76.0           4.0        6.3        17.0   \n",
      "...            ...           ...        ...         ...   \n",
      "6487          83.0           9.0        7.4         5.0   \n",
      "6488          69.0           4.0        6.3         4.0   \n",
      "6489          85.0          44.0        8.2      1796.0   \n",
      "6490          64.0          75.0        2.2      4572.0   \n",
      "6491          59.0           9.0        5.8        19.0   \n",
      "\n",
      "                        Developer  Rating  \n",
      "0                       EA Sports       1  \n",
      "1                Koei Tecmo Games       6  \n",
      "2                     Omega Force       6  \n",
      "3              Bandai Namco Games       2  \n",
      "4                     Omega Force       6  \n",
      "...                           ...     ...  \n",
      "6487                       Capcom       1  \n",
      "6488                      Tamsoft       6  \n",
      "6489                  id Software       4  \n",
      "6490                        Maxis       2  \n",
      "6491  Viva Media, Viva Media, LLC       6  \n",
      "\n",
      "[6492 rows x 14 columns]\n",
      "         ID  Platform  Genre                    Publisher  EU_Sales  \\\n",
      "0      8200         9     10              Electronic Arts      0.04   \n",
      "1      8251         9      0                   Tecmo Koei      0.07   \n",
      "2      8369         9      0                   Tecmo Koei      0.04   \n",
      "3      8423        11      0           Namco Bandai Games      0.00   \n",
      "4      8448        11      0           Namco Bandai Games      0.03   \n",
      "...     ...       ...    ...                          ...       ...   \n",
      "6487   9216         6      5           Virgin Interactive      0.05   \n",
      "6488   1568         6      2  Sony Computer Entertainment      0.26   \n",
      "6489  14613         5      8                  id Software      0.00   \n",
      "6490  14624         5      9                        Maxis      0.02   \n",
      "6491  14473         5      9                   Activision      0.03   \n",
      "\n",
      "      Critic_Score User_Score  \n",
      "0             59.0        6.1  \n",
      "1             74.0        7.6  \n",
      "2             58.0        6.5  \n",
      "3             57.0        7.3  \n",
      "4             76.0        6.3  \n",
      "...            ...        ...  \n",
      "6487          83.0        7.4  \n",
      "6488          69.0        6.3  \n",
      "6489          85.0        8.2  \n",
      "6490          64.0        2.2  \n",
      "6491          59.0        5.8  \n",
      "\n",
      "[6492 rows x 7 columns]\n"
     ]
    }
   ],
   "source": [
    "\n",
    "print(df_populated_indexed)\n",
    "#features = df_populated_indexed[['ID','Platform','Genre', 'Publisher', 'EU_Sales', 'Critic_Score', 'User_Score']]\n",
    "print(features)\n",
    "#add all the variables we want to include: genre, platform, rating, eu sales, critic score, user_score"
   ]
  },
  {
   "cell_type": "code",
   "execution_count": 1,
   "metadata": {},
   "outputs": [],
   "source": [
    "#from scipy.stats import probplot\n",
    "\n",
    "#numerical = ['EU_Sales', 'Critic_Score', 'User_Score']\n",
    "\n",
    "#_, ax = plt.subplots(1, 3)\n",
    "\n",
    "#for i,var in enumerate(numerical):\n",
    "    #probplot(new_df[var], dist=\"norm\", plot=ax[i])\n",
    "    #ax[i].set_title(var.title())"
   ]
  },
  {
   "cell_type": "code",
   "execution_count": 34,
   "metadata": {},
   "outputs": [
    {
     "name": "stdout",
     "output_type": "stream",
     "text": [
      "<class 'pandas.core.frame.DataFrame'>\n",
      "RangeIndex: 6492 entries, 0 to 6491\n",
      "Data columns (total 14 columns):\n",
      " #   Column           Non-Null Count  Dtype  \n",
      "---  ------           --------------  -----  \n",
      " 0   ID               6492 non-null   int64  \n",
      " 1   Name             6492 non-null   object \n",
      " 2   Platform         6492 non-null   int64  \n",
      " 3   Year_of_Release  6492 non-null   float64\n",
      " 4   Genre            6492 non-null   int32  \n",
      " 5   Publisher        6492 non-null   object \n",
      " 6   EU_Sales         6492 non-null   float64\n",
      " 7   Global_Sales     6492 non-null   float64\n",
      " 8   Critic_Score     6492 non-null   float64\n",
      " 9   Critic_Count     6492 non-null   float64\n",
      " 10  User_Score       6492 non-null   object \n",
      " 11  User_Count       6492 non-null   float64\n",
      " 12  Developer        6492 non-null   object \n",
      " 13  Rating           6492 non-null   int32  \n",
      "dtypes: float64(6), int32(2), int64(2), object(4)\n",
      "memory usage: 659.5+ KB\n",
      "         ID  Platform  Genre  EU_Sales  Critic_Score User_Score\n",
      "0      8200         9     10      0.04          59.0        6.1\n",
      "1      8251         9      0      0.07          74.0        7.6\n",
      "2      8369         9      0      0.04          58.0        6.5\n",
      "3      8423        11      0      0.00          57.0        7.3\n",
      "4      8448        11      0      0.03          76.0        6.3\n",
      "...     ...       ...    ...       ...           ...        ...\n",
      "6487   9216         6      5      0.05          83.0        7.4\n",
      "6488   1568         6      2      0.26          69.0        6.3\n",
      "6489  14613         5      8      0.00          85.0        8.2\n",
      "6490  14624         5      9      0.02          64.0        2.2\n",
      "6491  14473         5      9      0.03          59.0        5.8\n",
      "\n",
      "[6492 rows x 6 columns]\n"
     ]
    }
   ],
   "source": [
    "#separating into response matrix (x) and vector of targets(y)\n",
    "#X = df_populated_indexed.iloc[:, 6:12:2]\n",
    "#print(X.head())\n",
    "\n",
    "Y = df_populated_indexed.iloc[:,7]\n",
    "#print(Y.tail())\n",
    "df_populated_indexed.info()\n",
    "\n",
    "X = df_populated_indexed.iloc[:, 0:12:2]\n",
    "print(X)"
   ]
  },
  {
   "cell_type": "code",
   "execution_count": 35,
   "metadata": {},
   "outputs": [
    {
     "data": {
      "text/plain": [
       "LinearRegression()"
      ]
     },
     "execution_count": 35,
     "metadata": {},
     "output_type": "execute_result"
    }
   ],
   "source": [
    "from sklearn.linear_model import LinearRegression\n",
    "# Create linear regression object\n",
    "regr = LinearRegression()\n",
    "\n",
    "# Train the model using the training sets\n",
    "regr.fit(X, Y)"
   ]
  },
  {
   "cell_type": "code",
   "execution_count": 36,
   "metadata": {},
   "outputs": [],
   "source": [
    "X_test = pd.read_csv(\"/Users/Oller/Downloads/Kaggle_Datern_Test_Set.csv\")"
   ]
  },
  {
   "cell_type": "code",
   "execution_count": 87,
   "metadata": {},
   "outputs": [
    {
     "name": "stdout",
     "output_type": "stream",
     "text": [
      "        ID Platform         Genre  EU_Sales  Critic_Score User_Score\n",
      "0    15707       DS          Misc      0.00           NaN        NaN\n",
      "1    15757      PS2  Role-Playing      0.01          53.0        7.6\n",
      "2    15798       DS          Misc      0.00           NaN        NaN\n",
      "3    15819       XB       Shooter      0.00          45.0          2\n",
      "4    15956       DS        Sports      0.00           NaN        NaN\n",
      "..     ...      ...           ...       ...           ...        ...\n",
      "748   8059      PS4      Fighting      0.12          59.0        7.8\n",
      "749   8093      PSV        Action      0.02          71.0        7.4\n",
      "750   8142     XOne       Shooter      0.07           NaN        NaN\n",
      "751   8145      PS4        Action      0.00          67.0          8\n",
      "752   8192      PS4     Adventure      0.05           NaN        7.1\n",
      "\n",
      "[753 rows x 6 columns]\n"
     ]
    }
   ],
   "source": [
    "#encode the test data\n",
    "#print(X_test.head())\n",
    "X_test_new = X_test.iloc[:, 0:10]\n",
    "#X_test.drop(['Name'])\n",
    "#print(X_test_new)\n",
    "X_test_new = X_test_new.drop(['Name', 'Year_of_Release', 'Publisher', 'Critic_Count'], axis=1)\n",
    "#print(X_test.head())\n",
    "print(X_test_new)"
   ]
  },
  {
   "cell_type": "code",
   "execution_count": 88,
   "metadata": {},
   "outputs": [
    {
     "name": "stdout",
     "output_type": "stream",
     "text": [
      "        ID Platform         Genre  EU_Sales  Critic_Score User_Score\n",
      "0    15707       DS          Misc      0.00           NaN        NaN\n",
      "1    15757      PS2  Role-Playing      0.01          53.0        7.6\n",
      "2    15798       DS          Misc      0.00           NaN        NaN\n",
      "3    15819       XB       Shooter      0.00          45.0          2\n",
      "4    15956       DS        Sports      0.00           NaN        NaN\n",
      "..     ...      ...           ...       ...           ...        ...\n",
      "748   8059      PS4      Fighting      0.12          59.0        7.8\n",
      "749   8093      PSV        Action      0.02          71.0        7.4\n",
      "750   8142     XOne       Shooter      0.07           NaN        NaN\n",
      "751   8145      PS4        Action      0.00          67.0          8\n",
      "752   8192      PS4     Adventure      0.05           NaN        7.1\n",
      "\n",
      "[753 rows x 6 columns]\n"
     ]
    }
   ],
   "source": [
    "X_test_mod = X_test.iloc[:, 0:14:2]\n",
    "print(X_test_new)\n",
    "#cleaning the test data \n",
    "X_test_new = X_test_new.dropna()\n",
    "X_test_new = X_test_new.reset_index(drop=True)"
   ]
  },
  {
   "cell_type": "code",
   "execution_count": 89,
   "metadata": {},
   "outputs": [
    {
     "name": "stdout",
     "output_type": "stream",
     "text": [
      "      ID  Platform  Genre  EU_Sales  Critic_Score  User_Score\n",
      "0  15757         3      6      0.01          53.0          50\n",
      "1  15819         8      7      0.00          45.0           1\n",
      "2  15969         1      0      0.00          50.0          67\n",
      "3  16160         8      0      0.00          26.0           4\n",
      "4  16281         2     10      0.01          86.0          56\n"
     ]
    }
   ],
   "source": [
    "#encode the test data\n",
    "# columns platform genre and rating need encoding as they are categorical\n",
    "labelencoder1 = LabelEncoder()\n",
    "#encoding platform in test data\n",
    "X_test_new.iloc[:, 1] = labelencoder1.fit_transform(X_test_new.iloc[:, 1])\n",
    "\n",
    "#encoding genre\n",
    "X_test_new.iloc[:, 2] = labelencoder1.fit_transform(X_test_new.iloc[:, 2])\n",
    "\n",
    "#encoding rating\n",
    "X_test_new.iloc[:, 5] = labelencoder1.fit_transform(X_test_new.iloc[:, 5])\n",
    "\n",
    "print(X_test_new.head())"
   ]
  },
  {
   "cell_type": "code",
   "execution_count": 90,
   "metadata": {},
   "outputs": [
    {
     "data": {
      "text/plain": [
       "array([ 0.98243858, -0.31148057,  1.36972595, -0.28129569,  1.16599075,\n",
       "        1.37199316,  0.66581671,  0.70978843,  0.39005501, 16.00823753,\n",
       "        8.17614826,  5.72559713,  7.37133047,  5.81138993,  6.35544298,\n",
       "        2.31508328,  4.41120587,  3.66660931,  3.08393146,  3.33208305,\n",
       "        1.95213646,  3.63525059,  1.21405173,  2.6360745 ,  2.95831783,\n",
       "        2.25269865,  1.06357884,  2.76181938,  3.00226181,  2.92128066,\n",
       "        1.79946422,  2.41798581,  1.24180588,  2.20036797,  2.35313055,\n",
       "        2.05257353,  1.10846558,  1.96195494,  2.27826078,  2.1429471 ,\n",
       "        2.1379086 ,  2.48795219,  3.00471885,  2.25303955,  1.35258889,\n",
       "        2.08963298,  1.88946702,  1.68278836,  1.80594722,  1.94136508,\n",
       "        1.88868128,  2.0725476 ,  1.49973333,  1.30199561,  2.43137785,\n",
       "        1.26737719,  1.98354339,  1.84027285,  1.80973848,  1.9701353 ,\n",
       "        1.8862377 ,  2.06433042,  2.35871798,  2.16888459,  1.52707197,\n",
       "        1.76508915,  0.88348701,  1.68868274,  0.97211486,  0.97476005,\n",
       "        2.06937084,  1.86029026,  1.06411757,  1.71180386,  1.41311587,\n",
       "        1.7161203 ,  1.20476442,  1.47526236,  1.61608562,  1.91647885,\n",
       "        1.05359999,  1.2719212 ,  1.48589407,  1.5531962 ,  0.37497322,\n",
       "        1.91719337,  1.30285209,  1.46756691,  1.26427075,  1.23412651,\n",
       "        1.66683261,  1.10867998,  1.51835679,  1.33849194,  1.51430422,\n",
       "        1.30853339,  0.3859562 ,  1.2996992 ,  1.87489379,  1.28645599,\n",
       "        0.76465305,  0.54248283,  1.56441333,  1.20470697,  1.53194408,\n",
       "        1.13476038,  1.60335146,  1.47510034,  1.04955118,  0.86346822,\n",
       "        1.52951952,  1.34310524,  0.44946932,  0.91484331,  1.03736555,\n",
       "        0.25990246,  1.55352269,  1.44002961,  1.50516906,  1.04509865,\n",
       "        1.53824503,  1.27865033,  1.79151792,  0.93988005,  0.59306691,\n",
       "        0.96267755,  1.65530581,  1.43830886,  1.35643564,  0.8726186 ,\n",
       "        0.93751892,  0.83593755,  1.22130473,  0.59759535,  0.52874538,\n",
       "        1.19918458,  1.08215677,  1.12618858,  1.0378237 ,  0.73041275,\n",
       "        1.33840991,  0.86661047,  1.01646049,  1.21032292,  1.34424233,\n",
       "        1.33376054,  1.56107317,  1.26702411,  1.28887291,  0.38825578,\n",
       "        0.85507901,  0.65686079,  1.21413657,  1.26987531,  0.9415615 ,\n",
       "        0.88625185,  0.03768201,  1.35169659,  0.45442743,  1.03954971,\n",
       "        0.03367736,  1.0912169 ,  0.43609501,  1.20096026,  0.41442409,\n",
       "        1.00789158,  1.14895492,  0.09403453,  0.77532919,  1.26602931,\n",
       "        1.25775459,  1.18096906,  0.71289453,  1.28153541,  1.41274603,\n",
       "        0.92729037,  0.63550929,  0.9391902 ,  1.26425866,  1.21169177,\n",
       "        0.77493643,  0.95593059,  0.0575847 ,  1.13770586,  0.38119612,\n",
       "        0.85513054,  1.45861453,  0.72640089,  0.67364276,  1.39660564,\n",
       "        1.14805707,  1.06565698,  1.20339974,  0.23651152,  1.27473647,\n",
       "        0.67456887,  0.74918164,  0.98285349,  1.02779042,  0.65386806,\n",
       "        1.44745128,  1.4370682 ,  0.74637884,  1.09202713,  0.92832031,\n",
       "        0.2076735 ,  0.22587085,  0.06304349,  0.85607253, -0.20363834,\n",
       "        1.21535483,  1.25288919,  0.08938838, -0.32449457,  0.54332819,\n",
       "        0.12402361,  0.7567355 ,  0.62879511,  0.51741974,  0.68336504,\n",
       "        0.62749775,  1.16202544,  1.04532505,  0.7643018 ,  1.08871746,\n",
       "        0.89079931, -0.17308666,  0.92378102,  0.86299914,  0.63787754,\n",
       "        0.85726649,  0.77011431, -0.32938725,  0.73652245,  0.91591802,\n",
       "        1.06164814,  1.01941297,  0.37615542,  1.1258629 ,  1.21071493,\n",
       "        0.71388802, 16.8018536 ,  9.84154209,  6.11695167,  4.53394811,\n",
       "        4.83211653,  4.616063  ,  7.50120165,  5.93397003,  3.0000541 ,\n",
       "        5.22151506,  6.50428138,  2.3275871 ,  6.26138545,  1.83499361,\n",
       "        4.1141437 ,  3.96697843,  3.60152953,  3.86371958,  1.3054732 ,\n",
       "        3.27056061,  1.51721442,  4.5209867 ,  3.26562672,  3.28713568,\n",
       "        3.13917801,  3.87109243,  3.92000406,  3.23685539,  3.97032876,\n",
       "        2.54475824,  2.42695678,  1.92220828,  3.39468934,  2.44763319,\n",
       "        3.16340161,  2.90763486,  2.5199686 ,  2.26683273,  2.64081853,\n",
       "        2.64857336,  2.65116483,  2.96366002,  1.76189321,  1.43787862,\n",
       "        3.3336946 ,  2.27399505,  2.80466066,  3.01763319,  1.64639544,\n",
       "        1.68311555,  2.27065633,  2.34272417,  2.33746817,  2.04485748,\n",
       "        2.49026249,  2.39739873,  2.01369462,  2.01894151,  2.23183355,\n",
       "        3.03530854,  2.22283008,  1.71817018,  1.26907979,  1.2682638 ,\n",
       "        1.47117656,  1.84212783,  1.2543158 ,  2.01137332,  1.5284996 ,\n",
       "        2.32707758,  1.97516642,  1.00920508,  1.80095204,  1.56571662,\n",
       "        1.34096202,  1.0862988 ,  1.14872876,  1.86223616,  1.13360662,\n",
       "        1.74630818,  2.08841188,  0.76110954,  1.54597623,  1.51504103,\n",
       "        1.11580738,  1.28872943,  1.44313672,  2.01192388,  1.09792256,\n",
       "        1.63655288,  1.01144762,  1.47859681,  1.66247581,  1.59685596,\n",
       "        0.44584537,  1.06091983,  1.63423452,  0.64210145,  1.75093565,\n",
       "        1.16396895,  1.15377329,  1.41428391,  1.20741021,  1.05977837,\n",
       "        1.57598449,  0.84986745,  1.54159093,  1.36389108,  1.29236447,\n",
       "        1.45797041,  1.42912608,  1.56914083,  1.40248802,  1.0296385 ,\n",
       "        0.12130214,  1.33905203,  0.76900803,  1.45945004,  0.98560383,\n",
       "        0.64579485,  1.56687248,  1.21051431,  1.3039465 ])"
      ]
     },
     "execution_count": 90,
     "metadata": {},
     "output_type": "execute_result"
    }
   ],
   "source": [
    "y_pred = regr.predict(X_test_new)\n",
    "y_pred"
   ]
  },
  {
   "cell_type": "code",
   "execution_count": 91,
   "metadata": {},
   "outputs": [],
   "source": [
    "#create new results dataframe\n",
    "results_df = pd.DataFrame(y_pred)"
   ]
  },
  {
   "cell_type": "code",
   "execution_count": 92,
   "metadata": {},
   "outputs": [
    {
     "name": "stdout",
     "output_type": "stream",
     "text": [
      "          0\n",
      "0  0.982439\n",
      "1 -0.311481\n",
      "2  1.369726\n",
      "3 -0.281296\n",
      "4  1.165991\n",
      "<class 'pandas.core.frame.DataFrame'>\n",
      "RangeIndex: 364 entries, 0 to 363\n",
      "Data columns (total 1 columns):\n",
      " #   Column  Non-Null Count  Dtype  \n",
      "---  ------  --------------  -----  \n",
      " 0   0       364 non-null    float64\n",
      "dtypes: float64(1)\n",
      "memory usage: 3.0 KB\n",
      "None\n"
     ]
    }
   ],
   "source": [
    "print(results_df.head())\n",
    "print(results_df.info())"
   ]
  },
  {
   "cell_type": "code",
   "execution_count": 54,
   "metadata": {},
   "outputs": [
    {
     "name": "stdout",
     "output_type": "stream",
     "text": [
      "27       95\n",
      "29      172\n",
      "30      246\n",
      "31      290\n",
      "32      326\n",
      "       ... \n",
      "743    7812\n",
      "745    7876\n",
      "748    8059\n",
      "749    8093\n",
      "751    8145\n",
      "Name: ID, Length: 333, dtype: int64\n"
     ]
    }
   ],
   "source": [
    "#get new column with the ID of each game \n",
    "game_ID = X_test.dropna()\n",
    "game_ID = game_ID['ID']\n",
    "print(game_ID)"
   ]
  },
  {
   "cell_type": "code",
   "execution_count": 56,
   "metadata": {},
   "outputs": [],
   "source": [
    "#add this column to the results \n",
    "results_df['ID'] = game_ID"
   ]
  },
  {
   "cell_type": "code",
   "execution_count": 60,
   "metadata": {},
   "outputs": [
    {
     "name": "stdout",
     "output_type": "stream",
     "text": [
      "             0       ID\n",
      "0    -0.099819      NaN\n",
      "1    -0.092064      NaN\n",
      "2     0.066011      NaN\n",
      "3     6.746447      NaN\n",
      "4    -0.118870      NaN\n",
      "..         ...      ...\n",
      "352   0.603566      NaN\n",
      "353  20.507660  14342.0\n",
      "354   1.095071      NaN\n",
      "355   0.480422      NaN\n",
      "356   1.821252      NaN\n",
      "\n",
      "[357 rows x 2 columns]\n"
     ]
    }
   ],
   "source": [
    "print(results_df)"
   ]
  },
  {
   "cell_type": "code",
   "execution_count": null,
   "metadata": {},
   "outputs": [],
   "source": []
  }
 ],
 "metadata": {
  "kernelspec": {
   "display_name": "Python 3",
   "language": "python",
   "name": "python3"
  },
  "language_info": {
   "codemirror_mode": {
    "name": "ipython",
    "version": 3
   },
   "file_extension": ".py",
   "mimetype": "text/x-python",
   "name": "python",
   "nbconvert_exporter": "python",
   "pygments_lexer": "ipython3",
   "version": "3.8.3"
  }
 },
 "nbformat": 4,
 "nbformat_minor": 4
}
