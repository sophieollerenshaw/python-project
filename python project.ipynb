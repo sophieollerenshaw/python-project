{
 "cells": [
  {
   "cell_type": "code",
   "execution_count": 5,
   "metadata": {},
   "outputs": [],
   "source": [
    "import matplotlib.pyplot as plt\n",
    "import seaborn as sns\n",
    "plt.style.use('/Users/Oller/Downloads/Datern.mplstyle')\n",
    "\n",
    "import numpy as np\n",
    "import pandas as pd\n",
    "\n",
    "#Gradient colours\n",
    "from matplotlib.colors import LinearSegmentedColormap\n",
    "nodes = [0, 0.5,1.0]\n",
    "color = ['#00ACF0','#ffffff','#A834FF']\n",
    "cmap = LinearSegmentedColormap.from_list(\"\", list(zip(nodes, color)))\n",
    "\n",
    "%config InlineBackend.figure_format='retina'"
   ]
  },
  {
   "cell_type": "code",
   "execution_count": 9,
   "metadata": {},
   "outputs": [],
   "source": [
    "df = pd.read_csv(\"/Users/Oller/Downloads/Kaggle_Datern_Training_Set.csv\")"
   ]
  },
  {
   "cell_type": "code",
   "execution_count": 10,
   "metadata": {},
   "outputs": [
    {
     "name": "stdout",
     "output_type": "stream",
     "text": [
      "<class 'pandas.core.frame.DataFrame'>\n",
      "RangeIndex: 15966 entries, 0 to 15965\n",
      "Data columns (total 14 columns):\n",
      " #   Column           Non-Null Count  Dtype  \n",
      "---  ------           --------------  -----  \n",
      " 0   ID               15966 non-null  int64  \n",
      " 1   Name             15964 non-null  object \n",
      " 2   Platform         15966 non-null  object \n",
      " 3   Year_of_Release  15720 non-null  float64\n",
      " 4   Genre            15964 non-null  object \n",
      " 5   Publisher        15918 non-null  object \n",
      " 6   EU_Sales         15966 non-null  float64\n",
      " 7   Global_Sales     15966 non-null  float64\n",
      " 8   Critic_Score     7771 non-null   float64\n",
      " 9   Critic_Count     7771 non-null   float64\n",
      " 10  User_Score       9545 non-null   object \n",
      " 11  User_Count       7161 non-null   float64\n",
      " 12  Developer        9608 non-null   object \n",
      " 13  Rating           9496 non-null   object \n",
      "dtypes: float64(6), int64(1), object(7)\n",
      "memory usage: 1.7+ MB\n"
     ]
    }
   ],
   "source": [
    "df.head()\n",
    "df.info()\n"
   ]
  },
  {
   "cell_type": "code",
   "execution_count": 13,
   "metadata": {},
   "outputs": [],
   "source": [
    "#cleaning data\n",
    "\n",
    "\n",
    "\n",
    "df = pd.read_csv(\"/Users/Oller/Downloads/Kaggle_Datern_Training_Set.csv\")\n",
    "df.reset_index(drop=True)\n",
    "df_populated =df.dropna()\n",
    "df_populated_indexed = df_populated.reset_index(drop=True)\n",
    "new_df = df_populated_indexed"
   ]
  },
  {
   "cell_type": "code",
   "execution_count": 12,
   "metadata": {},
   "outputs": [
    {
     "name": "stdout",
     "output_type": "stream",
     "text": [
      "<class 'pandas.core.frame.DataFrame'>\n",
      "Int64Index: 6492 entries, 246 to 15842\n",
      "Data columns (total 14 columns):\n",
      " #   Column           Non-Null Count  Dtype  \n",
      "---  ------           --------------  -----  \n",
      " 0   ID               6492 non-null   int64  \n",
      " 1   Name             6492 non-null   object \n",
      " 2   Platform         6492 non-null   object \n",
      " 3   Year_of_Release  6492 non-null   float64\n",
      " 4   Genre            6492 non-null   object \n",
      " 5   Publisher        6492 non-null   object \n",
      " 6   EU_Sales         6492 non-null   float64\n",
      " 7   Global_Sales     6492 non-null   float64\n",
      " 8   Critic_Score     6492 non-null   float64\n",
      " 9   Critic_Count     6492 non-null   float64\n",
      " 10  User_Score       6492 non-null   object \n",
      " 11  User_Count       6492 non-null   float64\n",
      " 12  Developer        6492 non-null   object \n",
      " 13  Rating           6492 non-null   object \n",
      "dtypes: float64(6), int64(1), object(7)\n",
      "memory usage: 760.8+ KB\n"
     ]
    }
   ],
   "source": [
    "new_df.head()\n",
    "new_df.info()"
   ]
  },
  {
   "cell_type": "code",
   "execution_count": 17,
   "metadata": {},
   "outputs": [],
   "source": [
    "#encoding data for platform genre and rating\n",
    "# Encoding Platform\n",
    "from sklearn.preprocessing import LabelEncoder\n",
    "labelencoder1 = LabelEncoder()\n",
    "df_populated_indexed.iloc[:, 2] = labelencoder1.fit_transform(df_populated_indexed.iloc[:, 2])\n",
    "\n",
    "\n",
    "#encoding genre\n",
    "labelencoder1 = LabelEncoder()\n",
    "df_populated_indexed.iloc[:, 4] = labelencoder1.fit_transform(df_populated_indexed.iloc[:, 4])\n",
    "\n",
    "#encoding rating \n",
    "labelencoder1 = LabelEncoder()\n",
    "df_populated_indexed.iloc[:, 13] = labelencoder1.fit_transform(df_populated_indexed.iloc[:, 13])"
   ]
  },
  {
   "cell_type": "code",
   "execution_count": 23,
   "metadata": {},
   "outputs": [
    {
     "name": "stdout",
     "output_type": "stream",
     "text": [
      "         ID                                  Name  Platform  Year_of_Release  \\\n",
      "0      8200                           NBA Live 16         9           2015.0   \n",
      "1      8251                       Toukiden Kiwami         9           2015.0   \n",
      "2      8369                 Bladestorm: Nightmare         9           2015.0   \n",
      "3      8423  Mobile Suit Gundam: Extreme VS Force        11           2015.0   \n",
      "4      8448          One Piece: Pirate Warriors 3        11           2015.0   \n",
      "...     ...                                   ...       ...              ...   \n",
      "6487   9216         Super Puzzle Fighter II Turbo         6           1996.0   \n",
      "6488   1568                Battle Arena Toshinden         6           1994.0   \n",
      "6489  14613                                  Doom         5           1992.0   \n",
      "6490  14624                               SimCity         5           1988.0   \n",
      "6491  14473                             Alter Ego         5           1985.0   \n",
      "\n",
      "      Genre                    Publisher  EU_Sales  Global_Sales  \\\n",
      "0        10              Electronic Arts      0.04          0.18   \n",
      "1         0                   Tecmo Koei      0.07          0.17   \n",
      "2         0                   Tecmo Koei      0.04          0.17   \n",
      "3         0           Namco Bandai Games      0.00          0.17   \n",
      "4         0           Namco Bandai Games      0.03          0.17   \n",
      "...     ...                          ...       ...           ...   \n",
      "6487      5           Virgin Interactive      0.05          0.14   \n",
      "6488      2  Sony Computer Entertainment      0.26          1.27   \n",
      "6489      8                  id Software      0.00          0.03   \n",
      "6490      9                        Maxis      0.02          0.03   \n",
      "6491      9                   Activision      0.03          0.03   \n",
      "\n",
      "      Critic_Score  Critic_Count User_Score  User_Count  \\\n",
      "0             59.0          27.0        6.1        70.0   \n",
      "1             74.0          35.0        7.6        74.0   \n",
      "2             58.0          33.0        6.5        21.0   \n",
      "3             57.0          25.0        7.3        15.0   \n",
      "4             76.0           4.0        6.3        17.0   \n",
      "...            ...           ...        ...         ...   \n",
      "6487          83.0           9.0        7.4         5.0   \n",
      "6488          69.0           4.0        6.3         4.0   \n",
      "6489          85.0          44.0        8.2      1796.0   \n",
      "6490          64.0          75.0        2.2      4572.0   \n",
      "6491          59.0           9.0        5.8        19.0   \n",
      "\n",
      "                        Developer  Rating  \n",
      "0                       EA Sports       1  \n",
      "1                Koei Tecmo Games       6  \n",
      "2                     Omega Force       6  \n",
      "3              Bandai Namco Games       2  \n",
      "4                     Omega Force       6  \n",
      "...                           ...     ...  \n",
      "6487                       Capcom       1  \n",
      "6488                      Tamsoft       6  \n",
      "6489                  id Software       4  \n",
      "6490                        Maxis       2  \n",
      "6491  Viva Media, Viva Media, LLC       6  \n",
      "\n",
      "[6492 rows x 14 columns]\n",
      "         ID  Platform  Genre                    Publisher  EU_Sales  \\\n",
      "0      8200         9     10              Electronic Arts      0.04   \n",
      "1      8251         9      0                   Tecmo Koei      0.07   \n",
      "2      8369         9      0                   Tecmo Koei      0.04   \n",
      "3      8423        11      0           Namco Bandai Games      0.00   \n",
      "4      8448        11      0           Namco Bandai Games      0.03   \n",
      "...     ...       ...    ...                          ...       ...   \n",
      "6487   9216         6      5           Virgin Interactive      0.05   \n",
      "6488   1568         6      2  Sony Computer Entertainment      0.26   \n",
      "6489  14613         5      8                  id Software      0.00   \n",
      "6490  14624         5      9                        Maxis      0.02   \n",
      "6491  14473         5      9                   Activision      0.03   \n",
      "\n",
      "      Critic_Score User_Score  \n",
      "0             59.0        6.1  \n",
      "1             74.0        7.6  \n",
      "2             58.0        6.5  \n",
      "3             57.0        7.3  \n",
      "4             76.0        6.3  \n",
      "...            ...        ...  \n",
      "6487          83.0        7.4  \n",
      "6488          69.0        6.3  \n",
      "6489          85.0        8.2  \n",
      "6490          64.0        2.2  \n",
      "6491          59.0        5.8  \n",
      "\n",
      "[6492 rows x 7 columns]\n"
     ]
    }
   ],
   "source": [
    "\n",
    "print(df_populated_indexed)\n",
    "#features = df_populated_indexed[['ID','Platform','Genre', 'Publisher', 'EU_Sales', 'Critic_Score', 'User_Score']]\n",
    "print(features)\n",
    "#add all the variables we want to include: genre, platform, rating, eu sales, critic score, user_score"
   ]
  },
  {
   "cell_type": "code",
   "execution_count": 1,
   "metadata": {},
   "outputs": [],
   "source": [
    "#from scipy.stats import probplot\n",
    "\n",
    "#numerical = ['EU_Sales', 'Critic_Score', 'User_Score']\n",
    "\n",
    "#_, ax = plt.subplots(1, 3)\n",
    "\n",
    "#for i,var in enumerate(numerical):\n",
    "    #probplot(new_df[var], dist=\"norm\", plot=ax[i])\n",
    "    #ax[i].set_title(var.title())"
   ]
  },
  {
   "cell_type": "code",
   "execution_count": 34,
   "metadata": {},
   "outputs": [
    {
     "name": "stdout",
     "output_type": "stream",
     "text": [
      "<class 'pandas.core.frame.DataFrame'>\n",
      "RangeIndex: 6492 entries, 0 to 6491\n",
      "Data columns (total 14 columns):\n",
      " #   Column           Non-Null Count  Dtype  \n",
      "---  ------           --------------  -----  \n",
      " 0   ID               6492 non-null   int64  \n",
      " 1   Name             6492 non-null   object \n",
      " 2   Platform         6492 non-null   int64  \n",
      " 3   Year_of_Release  6492 non-null   float64\n",
      " 4   Genre            6492 non-null   int32  \n",
      " 5   Publisher        6492 non-null   object \n",
      " 6   EU_Sales         6492 non-null   float64\n",
      " 7   Global_Sales     6492 non-null   float64\n",
      " 8   Critic_Score     6492 non-null   float64\n",
      " 9   Critic_Count     6492 non-null   float64\n",
      " 10  User_Score       6492 non-null   object \n",
      " 11  User_Count       6492 non-null   float64\n",
      " 12  Developer        6492 non-null   object \n",
      " 13  Rating           6492 non-null   int32  \n",
      "dtypes: float64(6), int32(2), int64(2), object(4)\n",
      "memory usage: 659.5+ KB\n",
      "         ID  Platform  Genre  EU_Sales  Critic_Score User_Score\n",
      "0      8200         9     10      0.04          59.0        6.1\n",
      "1      8251         9      0      0.07          74.0        7.6\n",
      "2      8369         9      0      0.04          58.0        6.5\n",
      "3      8423        11      0      0.00          57.0        7.3\n",
      "4      8448        11      0      0.03          76.0        6.3\n",
      "...     ...       ...    ...       ...           ...        ...\n",
      "6487   9216         6      5      0.05          83.0        7.4\n",
      "6488   1568         6      2      0.26          69.0        6.3\n",
      "6489  14613         5      8      0.00          85.0        8.2\n",
      "6490  14624         5      9      0.02          64.0        2.2\n",
      "6491  14473         5      9      0.03          59.0        5.8\n",
      "\n",
      "[6492 rows x 6 columns]\n"
     ]
    }
   ],
   "source": [
    "#separating into response matrix (x) and vector of targets(y)\n",
    "#X = df_populated_indexed.iloc[:, 6:12:2]\n",
    "#print(X.head())\n",
    "\n",
    "Y = df_populated_indexed.iloc[:,7]\n",
    "#print(Y.tail())\n",
    "df_populated_indexed.info()\n",
    "\n",
    "X = df_populated_indexed.iloc[:, 0:12:2]\n",
    "print(X)"
   ]
  },
  {
   "cell_type": "code",
   "execution_count": 35,
   "metadata": {},
   "outputs": [
    {
     "data": {
      "text/plain": [
       "LinearRegression()"
      ]
     },
     "execution_count": 35,
     "metadata": {},
     "output_type": "execute_result"
    }
   ],
   "source": [
    "from sklearn.linear_model import LinearRegression\n",
    "# Create linear regression object\n",
    "regr = LinearRegression()\n",
    "\n",
    "# Train the model using the training sets\n",
    "regr.fit(X, Y)"
   ]
  },
  {
   "cell_type": "code",
   "execution_count": 36,
   "metadata": {},
   "outputs": [],
   "source": [
    "X_test = pd.read_csv(\"/Users/Oller/Downloads/Kaggle_Datern_Test_Set.csv\")"
   ]
  },
  {
   "cell_type": "code",
   "execution_count": null,
   "metadata": {},
   "outputs": [],
   "source": [
    "#encode the test data\n"
   ]
  },
  {
   "cell_type": "code",
   "execution_count": 45,
   "metadata": {},
   "outputs": [
    {
     "name": "stdout",
     "output_type": "stream",
     "text": [
      "        ID Platform         Genre  EU_Sales  Critic_Count  User_Count Rating\n",
      "0    15707       DS          Misc      0.00           NaN         NaN    NaN\n",
      "1    15757      PS2  Role-Playing      0.01          17.0         5.0      T\n",
      "2    15798       DS          Misc      0.00           NaN         NaN    NaN\n",
      "3    15819       XB       Shooter      0.00          25.0         5.0      M\n",
      "4    15956       DS        Sports      0.00           NaN         NaN    NaN\n",
      "..     ...      ...           ...       ...           ...         ...    ...\n",
      "748   8059      PS4      Fighting      0.12          30.0        45.0      T\n",
      "749   8093      PSV        Action      0.02           4.0        34.0      M\n",
      "750   8142     XOne       Shooter      0.07           NaN         NaN    NaN\n",
      "751   8145      PS4        Action      0.00          25.0        96.0      M\n",
      "752   8192      PS4     Adventure      0.05           NaN        18.0      T\n",
      "\n",
      "[753 rows x 7 columns]\n"
     ]
    }
   ],
   "source": [
    "X_test_mod = X_test.iloc[:, 0:14:2]\n",
    "print(X_test_mod)\n",
    "#cleaning the test data \n",
    "X_test_mod = X_test_mod.dropna()\n",
    "X_test_mod = X_test_mod.reset_index(drop=True)"
   ]
  },
  {
   "cell_type": "code",
   "execution_count": null,
   "metadata": {},
   "outputs": [],
   "source": [
    "\n"
   ]
  },
  {
   "cell_type": "code",
   "execution_count": 42,
   "metadata": {},
   "outputs": [
    {
     "ename": "ValueError",
     "evalue": "could not convert string to float: 'DS'",
     "output_type": "error",
     "traceback": [
      "\u001b[1;31m---------------------------------------------------------------------------\u001b[0m",
      "\u001b[1;31mValueError\u001b[0m                                Traceback (most recent call last)",
      "\u001b[1;32m<ipython-input-42-65e3fb86aaac>\u001b[0m in \u001b[0;36m<module>\u001b[1;34m\u001b[0m\n\u001b[1;32m----> 1\u001b[1;33m \u001b[0my_pred\u001b[0m \u001b[1;33m=\u001b[0m \u001b[0mregr\u001b[0m\u001b[1;33m.\u001b[0m\u001b[0mpredict\u001b[0m\u001b[1;33m(\u001b[0m\u001b[0mX_test_mod\u001b[0m\u001b[1;33m)\u001b[0m\u001b[1;33m\u001b[0m\u001b[1;33m\u001b[0m\u001b[0m\n\u001b[0m\u001b[0;32m      2\u001b[0m \u001b[0my_pred\u001b[0m\u001b[1;33m\u001b[0m\u001b[1;33m\u001b[0m\u001b[0m\n",
      "\u001b[1;32m~\\anaconda3\\lib\\site-packages\\sklearn\\linear_model\\_base.py\u001b[0m in \u001b[0;36mpredict\u001b[1;34m(self, X)\u001b[0m\n\u001b[0;32m    234\u001b[0m             \u001b[0mReturns\u001b[0m \u001b[0mpredicted\u001b[0m \u001b[0mvalues\u001b[0m\u001b[1;33m.\u001b[0m\u001b[1;33m\u001b[0m\u001b[1;33m\u001b[0m\u001b[0m\n\u001b[0;32m    235\u001b[0m         \"\"\"\n\u001b[1;32m--> 236\u001b[1;33m         \u001b[1;32mreturn\u001b[0m \u001b[0mself\u001b[0m\u001b[1;33m.\u001b[0m\u001b[0m_decision_function\u001b[0m\u001b[1;33m(\u001b[0m\u001b[0mX\u001b[0m\u001b[1;33m)\u001b[0m\u001b[1;33m\u001b[0m\u001b[1;33m\u001b[0m\u001b[0m\n\u001b[0m\u001b[0;32m    237\u001b[0m \u001b[1;33m\u001b[0m\u001b[0m\n\u001b[0;32m    238\u001b[0m     \u001b[0m_preprocess_data\u001b[0m \u001b[1;33m=\u001b[0m \u001b[0mstaticmethod\u001b[0m\u001b[1;33m(\u001b[0m\u001b[0m_preprocess_data\u001b[0m\u001b[1;33m)\u001b[0m\u001b[1;33m\u001b[0m\u001b[1;33m\u001b[0m\u001b[0m\n",
      "\u001b[1;32m~\\anaconda3\\lib\\site-packages\\sklearn\\linear_model\\_base.py\u001b[0m in \u001b[0;36m_decision_function\u001b[1;34m(self, X)\u001b[0m\n\u001b[0;32m    216\u001b[0m         \u001b[0mcheck_is_fitted\u001b[0m\u001b[1;33m(\u001b[0m\u001b[0mself\u001b[0m\u001b[1;33m)\u001b[0m\u001b[1;33m\u001b[0m\u001b[1;33m\u001b[0m\u001b[0m\n\u001b[0;32m    217\u001b[0m \u001b[1;33m\u001b[0m\u001b[0m\n\u001b[1;32m--> 218\u001b[1;33m         \u001b[0mX\u001b[0m \u001b[1;33m=\u001b[0m \u001b[0mcheck_array\u001b[0m\u001b[1;33m(\u001b[0m\u001b[0mX\u001b[0m\u001b[1;33m,\u001b[0m \u001b[0maccept_sparse\u001b[0m\u001b[1;33m=\u001b[0m\u001b[1;33m[\u001b[0m\u001b[1;34m'csr'\u001b[0m\u001b[1;33m,\u001b[0m \u001b[1;34m'csc'\u001b[0m\u001b[1;33m,\u001b[0m \u001b[1;34m'coo'\u001b[0m\u001b[1;33m]\u001b[0m\u001b[1;33m)\u001b[0m\u001b[1;33m\u001b[0m\u001b[1;33m\u001b[0m\u001b[0m\n\u001b[0m\u001b[0;32m    219\u001b[0m         return safe_sparse_dot(X, self.coef_.T,\n\u001b[0;32m    220\u001b[0m                                dense_output=True) + self.intercept_\n",
      "\u001b[1;32m~\\anaconda3\\lib\\site-packages\\sklearn\\utils\\validation.py\u001b[0m in \u001b[0;36minner_f\u001b[1;34m(*args, **kwargs)\u001b[0m\n\u001b[0;32m     71\u001b[0m                           FutureWarning)\n\u001b[0;32m     72\u001b[0m         \u001b[0mkwargs\u001b[0m\u001b[1;33m.\u001b[0m\u001b[0mupdate\u001b[0m\u001b[1;33m(\u001b[0m\u001b[1;33m{\u001b[0m\u001b[0mk\u001b[0m\u001b[1;33m:\u001b[0m \u001b[0marg\u001b[0m \u001b[1;32mfor\u001b[0m \u001b[0mk\u001b[0m\u001b[1;33m,\u001b[0m \u001b[0marg\u001b[0m \u001b[1;32min\u001b[0m \u001b[0mzip\u001b[0m\u001b[1;33m(\u001b[0m\u001b[0msig\u001b[0m\u001b[1;33m.\u001b[0m\u001b[0mparameters\u001b[0m\u001b[1;33m,\u001b[0m \u001b[0margs\u001b[0m\u001b[1;33m)\u001b[0m\u001b[1;33m}\u001b[0m\u001b[1;33m)\u001b[0m\u001b[1;33m\u001b[0m\u001b[1;33m\u001b[0m\u001b[0m\n\u001b[1;32m---> 73\u001b[1;33m         \u001b[1;32mreturn\u001b[0m \u001b[0mf\u001b[0m\u001b[1;33m(\u001b[0m\u001b[1;33m**\u001b[0m\u001b[0mkwargs\u001b[0m\u001b[1;33m)\u001b[0m\u001b[1;33m\u001b[0m\u001b[1;33m\u001b[0m\u001b[0m\n\u001b[0m\u001b[0;32m     74\u001b[0m     \u001b[1;32mreturn\u001b[0m \u001b[0minner_f\u001b[0m\u001b[1;33m\u001b[0m\u001b[1;33m\u001b[0m\u001b[0m\n\u001b[0;32m     75\u001b[0m \u001b[1;33m\u001b[0m\u001b[0m\n",
      "\u001b[1;32m~\\anaconda3\\lib\\site-packages\\sklearn\\utils\\validation.py\u001b[0m in \u001b[0;36mcheck_array\u001b[1;34m(array, accept_sparse, accept_large_sparse, dtype, order, copy, force_all_finite, ensure_2d, allow_nd, ensure_min_samples, ensure_min_features, estimator)\u001b[0m\n\u001b[0;32m    597\u001b[0m                     \u001b[0marray\u001b[0m \u001b[1;33m=\u001b[0m \u001b[0marray\u001b[0m\u001b[1;33m.\u001b[0m\u001b[0mastype\u001b[0m\u001b[1;33m(\u001b[0m\u001b[0mdtype\u001b[0m\u001b[1;33m,\u001b[0m \u001b[0mcasting\u001b[0m\u001b[1;33m=\u001b[0m\u001b[1;34m\"unsafe\"\u001b[0m\u001b[1;33m,\u001b[0m \u001b[0mcopy\u001b[0m\u001b[1;33m=\u001b[0m\u001b[1;32mFalse\u001b[0m\u001b[1;33m)\u001b[0m\u001b[1;33m\u001b[0m\u001b[1;33m\u001b[0m\u001b[0m\n\u001b[0;32m    598\u001b[0m                 \u001b[1;32melse\u001b[0m\u001b[1;33m:\u001b[0m\u001b[1;33m\u001b[0m\u001b[1;33m\u001b[0m\u001b[0m\n\u001b[1;32m--> 599\u001b[1;33m                     \u001b[0marray\u001b[0m \u001b[1;33m=\u001b[0m \u001b[0mnp\u001b[0m\u001b[1;33m.\u001b[0m\u001b[0masarray\u001b[0m\u001b[1;33m(\u001b[0m\u001b[0marray\u001b[0m\u001b[1;33m,\u001b[0m \u001b[0morder\u001b[0m\u001b[1;33m=\u001b[0m\u001b[0morder\u001b[0m\u001b[1;33m,\u001b[0m \u001b[0mdtype\u001b[0m\u001b[1;33m=\u001b[0m\u001b[0mdtype\u001b[0m\u001b[1;33m)\u001b[0m\u001b[1;33m\u001b[0m\u001b[1;33m\u001b[0m\u001b[0m\n\u001b[0m\u001b[0;32m    600\u001b[0m             \u001b[1;32mexcept\u001b[0m \u001b[0mComplexWarning\u001b[0m\u001b[1;33m:\u001b[0m\u001b[1;33m\u001b[0m\u001b[1;33m\u001b[0m\u001b[0m\n\u001b[0;32m    601\u001b[0m                 raise ValueError(\"Complex data not supported\\n\"\n",
      "\u001b[1;32m~\\anaconda3\\lib\\site-packages\\numpy\\core\\_asarray.py\u001b[0m in \u001b[0;36masarray\u001b[1;34m(a, dtype, order)\u001b[0m\n\u001b[0;32m     83\u001b[0m \u001b[1;33m\u001b[0m\u001b[0m\n\u001b[0;32m     84\u001b[0m     \"\"\"\n\u001b[1;32m---> 85\u001b[1;33m     \u001b[1;32mreturn\u001b[0m \u001b[0marray\u001b[0m\u001b[1;33m(\u001b[0m\u001b[0ma\u001b[0m\u001b[1;33m,\u001b[0m \u001b[0mdtype\u001b[0m\u001b[1;33m,\u001b[0m \u001b[0mcopy\u001b[0m\u001b[1;33m=\u001b[0m\u001b[1;32mFalse\u001b[0m\u001b[1;33m,\u001b[0m \u001b[0morder\u001b[0m\u001b[1;33m=\u001b[0m\u001b[0morder\u001b[0m\u001b[1;33m)\u001b[0m\u001b[1;33m\u001b[0m\u001b[1;33m\u001b[0m\u001b[0m\n\u001b[0m\u001b[0;32m     86\u001b[0m \u001b[1;33m\u001b[0m\u001b[0m\n\u001b[0;32m     87\u001b[0m \u001b[1;33m\u001b[0m\u001b[0m\n",
      "\u001b[1;31mValueError\u001b[0m: could not convert string to float: 'DS'"
     ]
    }
   ],
   "source": [
    "y_pred = regr.predict(X_test_mod)\n",
    "y_pred"
   ]
  },
  {
   "cell_type": "code",
   "execution_count": 41,
   "metadata": {},
   "outputs": [
    {
     "ename": "NameError",
     "evalue": "name 'y_pred' is not defined",
     "output_type": "error",
     "traceback": [
      "\u001b[1;31m---------------------------------------------------------------------------\u001b[0m",
      "\u001b[1;31mNameError\u001b[0m                                 Traceback (most recent call last)",
      "\u001b[1;32m<ipython-input-41-c22b9e2c13cf>\u001b[0m in \u001b[0;36m<module>\u001b[1;34m\u001b[0m\n\u001b[0;32m      1\u001b[0m \u001b[1;31m#create new results dataframe\u001b[0m\u001b[1;33m\u001b[0m\u001b[1;33m\u001b[0m\u001b[1;33m\u001b[0m\u001b[0m\n\u001b[1;32m----> 2\u001b[1;33m \u001b[0mresults_df\u001b[0m \u001b[1;33m=\u001b[0m \u001b[0mpd\u001b[0m\u001b[1;33m.\u001b[0m\u001b[0mDataFrame\u001b[0m\u001b[1;33m(\u001b[0m\u001b[0my_pred\u001b[0m\u001b[1;33m)\u001b[0m\u001b[1;33m\u001b[0m\u001b[1;33m\u001b[0m\u001b[0m\n\u001b[0m",
      "\u001b[1;31mNameError\u001b[0m: name 'y_pred' is not defined"
     ]
    }
   ],
   "source": [
    "#create new results dataframe\n",
    "results_df = pd.DataFrame(y_pred)"
   ]
  },
  {
   "cell_type": "code",
   "execution_count": 40,
   "metadata": {},
   "outputs": [
    {
     "ename": "NameError",
     "evalue": "name 'results_df' is not defined",
     "output_type": "error",
     "traceback": [
      "\u001b[1;31m---------------------------------------------------------------------------\u001b[0m",
      "\u001b[1;31mNameError\u001b[0m                                 Traceback (most recent call last)",
      "\u001b[1;32m<ipython-input-40-a489ee3393da>\u001b[0m in \u001b[0;36m<module>\u001b[1;34m\u001b[0m\n\u001b[1;32m----> 1\u001b[1;33m \u001b[0mprint\u001b[0m\u001b[1;33m(\u001b[0m\u001b[0mresults_df\u001b[0m\u001b[1;33m.\u001b[0m\u001b[0mhead\u001b[0m\u001b[1;33m(\u001b[0m\u001b[1;33m)\u001b[0m\u001b[1;33m)\u001b[0m\u001b[1;33m\u001b[0m\u001b[1;33m\u001b[0m\u001b[0m\n\u001b[0m\u001b[0;32m      2\u001b[0m \u001b[0mprint\u001b[0m\u001b[1;33m(\u001b[0m\u001b[0mresults_df\u001b[0m\u001b[1;33m.\u001b[0m\u001b[0minfo\u001b[0m\u001b[1;33m(\u001b[0m\u001b[1;33m)\u001b[0m\u001b[1;33m)\u001b[0m\u001b[1;33m\u001b[0m\u001b[1;33m\u001b[0m\u001b[0m\n",
      "\u001b[1;31mNameError\u001b[0m: name 'results_df' is not defined"
     ]
    }
   ],
   "source": [
    "print(results_df.head())\n",
    "print(results_df.info())"
   ]
  },
  {
   "cell_type": "code",
   "execution_count": 54,
   "metadata": {},
   "outputs": [
    {
     "name": "stdout",
     "output_type": "stream",
     "text": [
      "27       95\n",
      "29      172\n",
      "30      246\n",
      "31      290\n",
      "32      326\n",
      "       ... \n",
      "743    7812\n",
      "745    7876\n",
      "748    8059\n",
      "749    8093\n",
      "751    8145\n",
      "Name: ID, Length: 333, dtype: int64\n"
     ]
    }
   ],
   "source": [
    "#get new column with the ID of each game \n",
    "game_ID = X_test.dropna()\n",
    "game_ID = game_ID['ID']\n",
    "print(game_ID)"
   ]
  },
  {
   "cell_type": "code",
   "execution_count": 56,
   "metadata": {},
   "outputs": [],
   "source": [
    "#add this column to the results \n",
    "results_df['ID'] = game_ID"
   ]
  },
  {
   "cell_type": "code",
   "execution_count": 60,
   "metadata": {},
   "outputs": [
    {
     "name": "stdout",
     "output_type": "stream",
     "text": [
      "             0       ID\n",
      "0    -0.099819      NaN\n",
      "1    -0.092064      NaN\n",
      "2     0.066011      NaN\n",
      "3     6.746447      NaN\n",
      "4    -0.118870      NaN\n",
      "..         ...      ...\n",
      "352   0.603566      NaN\n",
      "353  20.507660  14342.0\n",
      "354   1.095071      NaN\n",
      "355   0.480422      NaN\n",
      "356   1.821252      NaN\n",
      "\n",
      "[357 rows x 2 columns]\n"
     ]
    }
   ],
   "source": [
    "print(results_df)"
   ]
  },
  {
   "cell_type": "code",
   "execution_count": null,
   "metadata": {},
   "outputs": [],
   "source": []
  }
 ],
 "metadata": {
  "kernelspec": {
   "display_name": "Python 3",
   "language": "python",
   "name": "python3"
  },
  "language_info": {
   "codemirror_mode": {
    "name": "ipython",
    "version": 3
   },
   "file_extension": ".py",
   "mimetype": "text/x-python",
   "name": "python",
   "nbconvert_exporter": "python",
   "pygments_lexer": "ipython3",
   "version": "3.8.3"
  }
 },
 "nbformat": 4,
 "nbformat_minor": 4
}
