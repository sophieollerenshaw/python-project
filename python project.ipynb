{
 "cells": [
  {
   "cell_type": "code",
   "execution_count": 29,
   "metadata": {},
   "outputs": [],
   "source": [
    "import matplotlib.pyplot as plt\n",
    "import seaborn as sns\n",
    "plt.style.use('/Users/Oller/Downloads/Datern.mplstyle')\n",
    "\n",
    "import numpy as np\n",
    "import pandas as pd\n",
    "\n",
    "#Gradient colours\n",
    "from matplotlib.colors import LinearSegmentedColormap\n",
    "nodes = [0, 0.5,1.0]\n",
    "color = ['#00ACF0','#ffffff','#A834FF']\n",
    "cmap = LinearSegmentedColormap.from_list(\"\", list(zip(nodes, color)))\n",
    "\n",
    "%config InlineBackend.figure_format='retina'"
   ]
  },
  {
   "cell_type": "code",
   "execution_count": 30,
   "metadata": {},
   "outputs": [],
   "source": [
    "df = pd.read_csv(\"/Users/Oller/Downloads/Kaggle_Datern_Training_Set.csv\")"
   ]
  },
  {
   "cell_type": "code",
   "execution_count": 31,
   "metadata": {},
   "outputs": [
    {
     "name": "stdout",
     "output_type": "stream",
     "text": [
      "<class 'pandas.core.frame.DataFrame'>\n",
      "RangeIndex: 15966 entries, 0 to 15965\n",
      "Data columns (total 14 columns):\n",
      " #   Column           Non-Null Count  Dtype  \n",
      "---  ------           --------------  -----  \n",
      " 0   ID               15966 non-null  int64  \n",
      " 1   Name             15964 non-null  object \n",
      " 2   Platform         15966 non-null  object \n",
      " 3   Year_of_Release  15720 non-null  float64\n",
      " 4   Genre            15964 non-null  object \n",
      " 5   Publisher        15918 non-null  object \n",
      " 6   EU_Sales         15966 non-null  float64\n",
      " 7   Global_Sales     15966 non-null  float64\n",
      " 8   Critic_Score     7771 non-null   float64\n",
      " 9   Critic_Count     7771 non-null   float64\n",
      " 10  User_Score       9545 non-null   object \n",
      " 11  User_Count       7161 non-null   float64\n",
      " 12  Developer        9608 non-null   object \n",
      " 13  Rating           9496 non-null   object \n",
      "dtypes: float64(6), int64(1), object(7)\n",
      "memory usage: 1.7+ MB\n"
     ]
    }
   ],
   "source": [
    "df.head()\n",
    "df.info()\n"
   ]
  },
  {
   "cell_type": "code",
   "execution_count": 32,
   "metadata": {},
   "outputs": [],
   "source": [
    "#cleaning data\n",
    "df = pd.read_csv(\"/Users/Oller/Downloads/Kaggle_Datern_Training_Set.csv\")\n",
    "df.reset_index(drop=True)\n",
    "df_populated =df.dropna()\n",
    "df_populated_indexed = df_populated.reset_index(drop=True)\n",
    "new_df = df_populated_indexed"
   ]
  },
  {
   "cell_type": "code",
   "execution_count": 33,
   "metadata": {},
   "outputs": [
    {
     "name": "stdout",
     "output_type": "stream",
     "text": [
      "<class 'pandas.core.frame.DataFrame'>\n",
      "RangeIndex: 6492 entries, 0 to 6491\n",
      "Data columns (total 14 columns):\n",
      " #   Column           Non-Null Count  Dtype  \n",
      "---  ------           --------------  -----  \n",
      " 0   ID               6492 non-null   int64  \n",
      " 1   Name             6492 non-null   object \n",
      " 2   Platform         6492 non-null   object \n",
      " 3   Year_of_Release  6492 non-null   float64\n",
      " 4   Genre            6492 non-null   object \n",
      " 5   Publisher        6492 non-null   object \n",
      " 6   EU_Sales         6492 non-null   float64\n",
      " 7   Global_Sales     6492 non-null   float64\n",
      " 8   Critic_Score     6492 non-null   float64\n",
      " 9   Critic_Count     6492 non-null   float64\n",
      " 10  User_Score       6492 non-null   object \n",
      " 11  User_Count       6492 non-null   float64\n",
      " 12  Developer        6492 non-null   object \n",
      " 13  Rating           6492 non-null   object \n",
      "dtypes: float64(6), int64(1), object(7)\n",
      "memory usage: 710.2+ KB\n"
     ]
    }
   ],
   "source": [
    "new_df.head()\n",
    "new_df.info()"
   ]
  },
  {
   "cell_type": "code",
   "execution_count": 34,
   "metadata": {},
   "outputs": [],
   "source": [
    "#encoding data for platform genre and rating\n",
    "# Encoding Platform\n",
    "from sklearn.preprocessing import LabelEncoder\n",
    "labelencoder1 = LabelEncoder()\n",
    "df_populated_indexed.iloc[:, 2] = labelencoder1.fit_transform(df_populated_indexed.iloc[:, 2])\n",
    "\n",
    "\n",
    "#encoding genre\n",
    "labelencoder1 = LabelEncoder()\n",
    "df_populated_indexed.iloc[:, 4] = labelencoder1.fit_transform(df_populated_indexed.iloc[:, 4])\n",
    "\n",
    "#encoding rating \n",
    "labelencoder1 = LabelEncoder()\n",
    "df_populated_indexed.iloc[:, 13] = labelencoder1.fit_transform(df_populated_indexed.iloc[:, 13])"
   ]
  },
  {
   "cell_type": "code",
   "execution_count": 35,
   "metadata": {},
   "outputs": [
    {
     "name": "stdout",
     "output_type": "stream",
     "text": [
      "         ID                                  Name  Platform  Year_of_Release  \\\n",
      "0      8200                           NBA Live 16         9           2015.0   \n",
      "1      8251                       Toukiden Kiwami         9           2015.0   \n",
      "2      8369                 Bladestorm: Nightmare         9           2015.0   \n",
      "3      8423  Mobile Suit Gundam: Extreme VS Force        11           2015.0   \n",
      "4      8448          One Piece: Pirate Warriors 3        11           2015.0   \n",
      "...     ...                                   ...       ...              ...   \n",
      "6487   9216         Super Puzzle Fighter II Turbo         6           1996.0   \n",
      "6488   1568                Battle Arena Toshinden         6           1994.0   \n",
      "6489  14613                                  Doom         5           1992.0   \n",
      "6490  14624                               SimCity         5           1988.0   \n",
      "6491  14473                             Alter Ego         5           1985.0   \n",
      "\n",
      "      Genre                    Publisher  EU_Sales  Global_Sales  \\\n",
      "0        10              Electronic Arts      0.04          0.18   \n",
      "1         0                   Tecmo Koei      0.07          0.17   \n",
      "2         0                   Tecmo Koei      0.04          0.17   \n",
      "3         0           Namco Bandai Games      0.00          0.17   \n",
      "4         0           Namco Bandai Games      0.03          0.17   \n",
      "...     ...                          ...       ...           ...   \n",
      "6487      5           Virgin Interactive      0.05          0.14   \n",
      "6488      2  Sony Computer Entertainment      0.26          1.27   \n",
      "6489      8                  id Software      0.00          0.03   \n",
      "6490      9                        Maxis      0.02          0.03   \n",
      "6491      9                   Activision      0.03          0.03   \n",
      "\n",
      "      Critic_Score  Critic_Count User_Score  User_Count  \\\n",
      "0             59.0          27.0        6.1        70.0   \n",
      "1             74.0          35.0        7.6        74.0   \n",
      "2             58.0          33.0        6.5        21.0   \n",
      "3             57.0          25.0        7.3        15.0   \n",
      "4             76.0           4.0        6.3        17.0   \n",
      "...            ...           ...        ...         ...   \n",
      "6487          83.0           9.0        7.4         5.0   \n",
      "6488          69.0           4.0        6.3         4.0   \n",
      "6489          85.0          44.0        8.2      1796.0   \n",
      "6490          64.0          75.0        2.2      4572.0   \n",
      "6491          59.0           9.0        5.8        19.0   \n",
      "\n",
      "                        Developer  Rating  \n",
      "0                       EA Sports       1  \n",
      "1                Koei Tecmo Games       6  \n",
      "2                     Omega Force       6  \n",
      "3              Bandai Namco Games       2  \n",
      "4                     Omega Force       6  \n",
      "...                           ...     ...  \n",
      "6487                       Capcom       1  \n",
      "6488                      Tamsoft       6  \n",
      "6489                  id Software       4  \n",
      "6490                        Maxis       2  \n",
      "6491  Viva Media, Viva Media, LLC       6  \n",
      "\n",
      "[6492 rows x 14 columns]\n"
     ]
    }
   ],
   "source": [
    "\n",
    "print(df_populated_indexed)\n",
    "#features = df_populated_indexed[['ID','Platform','Genre', 'Publisher', 'EU_Sales', 'Critic_Score', 'User_Score']]\n",
    "#print(features)\n",
    "#add all the variables we want to include: genre, platform, rating, eu sales, critic score, user_score"
   ]
  },
  {
   "cell_type": "code",
   "execution_count": 36,
   "metadata": {},
   "outputs": [],
   "source": []
  },
  {
   "cell_type": "code",
   "execution_count": 37,
   "metadata": {},
   "outputs": [
    {
     "name": "stdout",
     "output_type": "stream",
     "text": [
      "<class 'pandas.core.frame.DataFrame'>\n",
      "RangeIndex: 6492 entries, 0 to 6491\n",
      "Data columns (total 14 columns):\n",
      " #   Column           Non-Null Count  Dtype  \n",
      "---  ------           --------------  -----  \n",
      " 0   ID               6492 non-null   int64  \n",
      " 1   Name             6492 non-null   object \n",
      " 2   Platform         6492 non-null   int32  \n",
      " 3   Year_of_Release  6492 non-null   float64\n",
      " 4   Genre            6492 non-null   int32  \n",
      " 5   Publisher        6492 non-null   object \n",
      " 6   EU_Sales         6492 non-null   float64\n",
      " 7   Global_Sales     6492 non-null   float64\n",
      " 8   Critic_Score     6492 non-null   float64\n",
      " 9   Critic_Count     6492 non-null   float64\n",
      " 10  User_Score       6492 non-null   object \n",
      " 11  User_Count       6492 non-null   float64\n",
      " 12  Developer        6492 non-null   object \n",
      " 13  Rating           6492 non-null   int32  \n",
      "dtypes: float64(6), int32(3), int64(1), object(4)\n",
      "memory usage: 634.1+ KB\n",
      "         ID  Platform  Genre  EU_Sales  Critic_Score User_Score\n",
      "0      8200         9     10      0.04          59.0        6.1\n",
      "1      8251         9      0      0.07          74.0        7.6\n",
      "2      8369         9      0      0.04          58.0        6.5\n",
      "3      8423        11      0      0.00          57.0        7.3\n",
      "4      8448        11      0      0.03          76.0        6.3\n",
      "...     ...       ...    ...       ...           ...        ...\n",
      "6487   9216         6      5      0.05          83.0        7.4\n",
      "6488   1568         6      2      0.26          69.0        6.3\n",
      "6489  14613         5      8      0.00          85.0        8.2\n",
      "6490  14624         5      9      0.02          64.0        2.2\n",
      "6491  14473         5      9      0.03          59.0        5.8\n",
      "\n",
      "[6492 rows x 6 columns]\n"
     ]
    }
   ],
   "source": [
    "#separating into response matrix (x) and vector of targets(y)\n",
    "\n",
    "\n",
    "Y = df_populated_indexed.iloc[:,7]\n",
    "\n",
    "df_populated_indexed.info()\n",
    "\n",
    "X = df_populated_indexed.iloc[:, 0:12:2]\n",
    "print(X)"
   ]
  },
  {
   "cell_type": "code",
   "execution_count": 38,
   "metadata": {},
   "outputs": [
    {
     "data": {
      "text/plain": [
       "LinearRegression()"
      ]
     },
     "execution_count": 38,
     "metadata": {},
     "output_type": "execute_result"
    }
   ],
   "source": [
    "from sklearn.linear_model import LinearRegression\n",
    "# Create linear regression object\n",
    "regr = LinearRegression()\n",
    "\n",
    "# Train the model using the training sets\n",
    "regr.fit(X, Y)"
   ]
  },
  {
   "cell_type": "code",
   "execution_count": 39,
   "metadata": {},
   "outputs": [],
   "source": [
    "X_test = pd.read_csv(\"/Users/Oller/Downloads/Kaggle_Datern_Test_Set.csv\")"
   ]
  },
  {
   "cell_type": "code",
   "execution_count": 40,
   "metadata": {},
   "outputs": [
    {
     "name": "stdout",
     "output_type": "stream",
     "text": [
      "        ID Platform         Genre  EU_Sales  Critic_Score User_Score\n",
      "0    15707       DS          Misc      0.00           NaN        NaN\n",
      "1    15757      PS2  Role-Playing      0.01          53.0        7.6\n",
      "2    15798       DS          Misc      0.00           NaN        NaN\n",
      "3    15819       XB       Shooter      0.00          45.0          2\n",
      "4    15956       DS        Sports      0.00           NaN        NaN\n",
      "..     ...      ...           ...       ...           ...        ...\n",
      "748   8059      PS4      Fighting      0.12          59.0        7.8\n",
      "749   8093      PSV        Action      0.02          71.0        7.4\n",
      "750   8142     XOne       Shooter      0.07           NaN        NaN\n",
      "751   8145      PS4        Action      0.00          67.0          8\n",
      "752   8192      PS4     Adventure      0.05           NaN        7.1\n",
      "\n",
      "[753 rows x 6 columns]\n"
     ]
    }
   ],
   "source": [
    "\n",
    "\n",
    "X_test_new = X_test.iloc[:, 0:10]\n",
    "\n",
    "X_test_new = X_test_new.drop(['Name', 'Year_of_Release', 'Publisher', 'Critic_Count'], axis=1)\n",
    "\n",
    "print(X_test_new)"
   ]
  },
  {
   "cell_type": "code",
   "execution_count": 44,
   "metadata": {},
   "outputs": [
    {
     "name": "stdout",
     "output_type": "stream",
     "text": [
      "Critic_Score    73.76776\n",
      "dtype: float64\n",
      "0      73.76776\n",
      "1      53.00000\n",
      "2      73.76776\n",
      "3      45.00000\n",
      "4      73.76776\n",
      "         ...   \n",
      "748    59.00000\n",
      "749    71.00000\n",
      "750    73.76776\n",
      "751    67.00000\n",
      "752    73.76776\n",
      "Name: Critic_Score, Length: 753, dtype: float64\n",
      "0    6.612587\n",
      "1    7.600000\n",
      "2    6.612587\n",
      "3    2.000000\n",
      "4    6.612587\n",
      "5    6.612587\n",
      "6    6.612587\n",
      "7    6.612587\n",
      "8    6.612587\n",
      "9    6.612587\n",
      "Name: User_Score, dtype: float64\n",
      "0      6.612587\n",
      "1      7.600000\n",
      "2      6.612587\n",
      "3      2.000000\n",
      "4      6.612587\n",
      "         ...   \n",
      "748    7.800000\n",
      "749    7.400000\n",
      "750    6.612587\n",
      "751    8.000000\n",
      "752    7.100000\n",
      "Name: User_Score, Length: 753, dtype: float64\n"
     ]
    }
   ],
   "source": [
    "#X_test_mod = X_test.iloc[:, 0:14:2]\n",
    "#print(X_test_new)\n",
    "#cleaning the test data \n",
    "#X_test_new = X_test_new.dropna()\n",
    "#X_test_new = X_test_new.reset_index(drop=True)\n",
    "###need to replace NaN values \n",
    "#calculate mean critic score and user score, replace NaN with mean \n",
    "Critic_Score_mean = X_test_new[['Critic_Score']].mean()\n",
    "print(Critic_Score_mean)\n",
    "#repopulate the NaN values with the mean critic score\n",
    "X_test_new['Critic_Score'] = X_test_new['Critic_Score'].fillna(73.76776)\n",
    "print(X_test_new['Critic_Score'])\n",
    "# calculate mean user score \n",
    "X_test_new['User_Score'] = X_test_new['User_Score'].fillna(6.612587)\n",
    "#X_test_new_drop_na.apply(lambda x: pd.to_numeric(x, errors='coerce')).dropna()\n",
    "#X_test_new_drop_na = X_test_new.dropna()\n",
    "#print(X_test_new_drop_na[['User_Score']])\n",
    "#User_Score_mean = X_test_new_drop_na[['User_Score']].mean()\n",
    "#print(User_Score_mean)\n",
    "print(X_test_new['User_Score'].head(10))\n",
    "#convert 'tbd' to average\n",
    "X_test_new['User_Score'] = X_test_new['User_Score'].replace(to_replace='tbd',value = 6.612587 )\n",
    "#need to convert all values to float\n",
    "X_test_new['User_Score']= X_test_new.User_Score.astype(float)\n",
    "#pd.Series.X_test_new['User_Score'].astype(float) \n",
    "#for num in X_test_new['User_Score']:\n",
    "    #float(num)\n",
    "print(X_test_new['User_Score'])"
   ]
  },
  {
   "cell_type": "code",
   "execution_count": 45,
   "metadata": {},
   "outputs": [
    {
     "name": "stdout",
     "output_type": "stream",
     "text": [
      "        ID  Platform  Genre  EU_Sales  Critic_Score  User_Score\n",
      "0    15707         1      3      0.00      73.76776          45\n",
      "1    15757         4      7      0.01      53.00000          55\n",
      "2    15798         1      3      0.00      73.76776          45\n",
      "3    15819        12      8      0.00      45.00000           5\n",
      "4    15956         1     10      0.00      73.76776          45\n",
      "..     ...       ...    ...       ...           ...         ...\n",
      "748   8059         6      2      0.12      59.00000          57\n",
      "749   8093         8      0      0.02      71.00000          53\n",
      "750   8142        13      8      0.07      73.76776          45\n",
      "751   8145         6      0      0.00      67.00000          59\n",
      "752   8192         6      1      0.05      73.76776          50\n",
      "\n",
      "[753 rows x 6 columns]\n"
     ]
    }
   ],
   "source": [
    "#encode the test data\n",
    "# columns platform genre and rating need encoding as they are categorical\n",
    "labelencoder1 = LabelEncoder()\n",
    "#encoding platform in test data\n",
    "X_test_new.iloc[:, 1] = labelencoder1.fit_transform(X_test_new.iloc[:, 1])\n",
    "\n",
    "#encoding genre\n",
    "X_test_new.iloc[:, 2] = labelencoder1.fit_transform(X_test_new.iloc[:, 2])\n",
    "\n",
    "#encoding rating\n",
    "X_test_new.iloc[:, 5] = labelencoder1.fit_transform(X_test_new.iloc[:, 5])\n",
    "\n",
    "print(X_test_new)\n"
   ]
  },
  {
   "cell_type": "code",
   "execution_count": 47,
   "metadata": {},
   "outputs": [
    {
     "data": {
      "text/plain": [
       "array([ 0.84411463,  1.11463691,  0.84124721, -0.20166665,  0.85078144,\n",
       "        0.80331916,  0.84729022,  0.83425196,  0.86843891,  0.88459692,\n",
       "        0.85116027, -0.17355504,  0.85389088,  1.29818908,  0.82775446,\n",
       "        0.83690052,  0.84613247,  0.83663439,  0.80879732,  0.77221756,\n",
       "        0.84198676,  0.82069719,  0.49645587,  1.16440838,  0.90914257,\n",
       "        0.84411226,  0.82446327, 16.11577608,  5.17205261,  8.30948428,\n",
       "        5.83313567,  7.50466649,  5.94472595,  6.46525689,  2.4248972 ,\n",
       "        4.51667115,  3.8022207 ,  3.21954286,  3.43962159,  2.08547247,\n",
       "        3.74071587,  1.32159027,  2.74153978,  3.09165385,  3.31553314,\n",
       "        3.13710494,  2.36251257,  1.28546172,  2.86464087,  1.17339276,\n",
       "        2.89308213,  3.13352457,  3.05689206,  1.90927814,  2.55038626,\n",
       "        1.3516198 ,  2.33276841,  2.67077714,  2.46066909,  2.18156091,\n",
       "        1.21393086,  1.26500005,  2.0696956 ,  1.93836523,  2.4115968 ,\n",
       "        1.98677797,  1.89738445,  2.27420986,  2.26917136,  2.61921494,\n",
       "        1.7045235 ,  3.13691718,  2.38430231,  1.24606068,  1.46032954,\n",
       "        2.222969  ,  2.02507841,  1.21843962,  1.81632649,  1.93814555,\n",
       "        1.76688158,  2.0747011 ,  2.02429267,  2.20588362,  1.53355345,\n",
       "        1.63420703,  1.41180952,  2.56471387,  1.37377805,  1.49325181,\n",
       "        2.11480615,  1.97588424,  1.94100124,  1.96102407,  2.10233363,\n",
       "        2.01957372,  0.88878898,  1.62780222,  1.19311205,  2.19766643,\n",
       "        2.492054  ,  2.30222061,  1.66154568,  1.89862728,  0.99102555,\n",
       "        1.8199455 ,  1.07985552,  1.08022533,  2.2006336 ,  1.54335819,\n",
       "        1.99362628,  1.17165611,  1.41900715,  1.84400219,  1.19743181,\n",
       "        1.54210326,  1.84965843,  1.33602718,  1.16942306,  1.60880049,\n",
       "        1.72362417,  1.14671094,  1.13745854,  1.43333285,  1.13688494,\n",
       "        1.14440233,  2.04774161,  1.16341391,  1.40525722,  1.61715682,\n",
       "        1.68539453,  0.48478714,  1.92165688,  2.05280477,  1.43525253,\n",
       "        1.12169853,  1.59976524,  1.1299342 ,  1.1072403 ,  1.39780888,\n",
       "        1.46403227,  1.36518715,  1.80016863,  1.23766737,  1.64961954,\n",
       "        1.24760996,  1.11212972,  1.54861721,  1.47203007,  1.64764023,\n",
       "        1.09383359,  1.10202778,  1.09592322,  1.43752077,  0.49028379,\n",
       "        1.43303522,  1.38621592,  1.10868378,  1.31076238,  0.02216867,\n",
       "        1.09821576,  1.42206738,  0.86898064,  0.65022349,  1.33148535,\n",
       "        1.06918956,  1.70002472,  1.34031836,  1.66320684,  1.2680964 ,\n",
       "        1.73461422,  1.60750079,  1.15729183,  0.9689335 ,  1.66285554,\n",
       "        0.58442221,  1.47644126,  0.55928324,  1.02030859,  1.14283083,\n",
       "        0.36630332,  1.04610567,  1.04237751,  1.68706082,  1.57222794,\n",
       "        1.34663081,  0.12837036,  1.19546522,  1.64078045,  1.26494881,\n",
       "        1.04055147,  1.51980879,  1.0343839 ,  1.1763614 ,  1.6683701 ,\n",
       "        1.40991309,  1.21249636,  1.2709958 ,  1.23059746,  1.04420764,\n",
       "        1.04198604,  1.02882174,  0.30724566,  1.04028449,  1.0443931 ,\n",
       "        0.69946776, -0.06417974,  1.09166493,  1.03581005,  1.02206343,\n",
       "        1.78864183,  1.57184699,  1.4876984 ,  1.143715  ,  1.20266761,\n",
       "        1.01058709,  1.00281566,  0.97901945,  1.04505747,  1.01768222,\n",
       "        1.00104616,  0.99836115,  1.28725791,  0.9436782 ,  1.35256748,\n",
       "        1.16588341,  1.00221768,  1.01234496,  0.70306063,  0.63514624,\n",
       "        1.13726781,  1.07205945,  1.3325206 ,  1.1353121 ,  0.99033271,\n",
       "        1.21114415,  1.11924454,  0.96144111,  1.00888472,  0.98257456,\n",
       "        1.00528592,  1.25745133,  1.17002203,  0.98293987,  0.83587803,\n",
       "        1.47060824,  1.18130012,  1.09885612,  0.99994649,  1.14772324,\n",
       "        1.03289476,  1.34386105,  1.47757835,  0.96886   ,  1.46274792,\n",
       "        1.6932715 ,  1.01382324,  1.39828687,  1.42013566,  0.95773199,\n",
       "        0.49258338,  0.95337362,  1.0911079 ,  0.96261755,  0.76460144,\n",
       "        1.3476747 ,  1.40113807,  0.94026801,  1.07489752,  0.94365621,\n",
       "        1.03125961,  0.94615547,  0.95801481,  1.01978998,  0.95730753,\n",
       "        0.93597622,  1.01354059,  0.99504319,  0.93783015,  0.1420096 ,\n",
       "        1.04198468,  0.95149885,  1.48389492,  0.9402057 ,  0.56216809,\n",
       "        1.17174804,  0.93187473,  0.93355141,  1.03775259,  0.94743404,\n",
       "        0.13914264,  1.22455292,  0.54383566,  0.20601955,  1.33429628,\n",
       "        0.93157192,  0.95389101,  0.92532726,  0.517614  ,  0.92972379,\n",
       "        1.13915434,  0.93809399,  1.28115325,  0.20157307,  0.88514311,\n",
       "        1.4016407 ,  0.91067357,  0.99938855,  1.3910906 ,  1.31223182,\n",
       "        0.82270845,  1.01920284,  1.41487143,  1.5428711 ,  0.91057055,\n",
       "        1.05855313,  0.9108183 ,  0.74324994,  0.91319586,  0.37515213,\n",
       "        0.92196388,  0.90856386,  0.91459459,  1.07252622,  1.39645699,\n",
       "        0.98024641,  1.34295452,  0.89904632,  0.88040171,  0.90060901,\n",
       "        0.9001125 ,  1.26237393, -0.16521534,  0.90094073,  1.08812892,\n",
       "        0.16398556,  1.271244  ,  0.95916665,  0.92183245,  0.94688031,\n",
       "        0.89602282,  0.88644867,  0.88581847,  0.91555806,  0.48759697,\n",
       "        0.88556639,  0.89232949,  0.97970035,  0.89764854,  0.98846656,\n",
       "        0.90479417,  0.89334543,  0.97491081,  0.83280174,  0.88579924,\n",
       "        0.94663843,  0.88568085,  0.77797036,  0.89965801,  1.52880397,\n",
       "        1.27931983,  0.90101959,  0.8857126 ,  1.19691973,  1.0404541 ,\n",
       "        1.33901114,  0.88051983,  0.88586814,  0.2937549 ,  0.87556609,\n",
       "        0.89225977,  0.34311449,  0.87749485,  1.40807249,  0.87783506,\n",
       "        0.78096973,  0.877646  ,  0.90140138,  0.88958141,  0.88891969,\n",
       "        0.87089927,  0.85464692,  0.94287413,  1.11846488,  0.86983124,\n",
       "        1.33704108,  0.93441921,  0.86655295,  1.15905318,  0.87100376,\n",
       "        1.08681539,  0.75933334,  0.87375079,  0.87251857,  0.88653082,\n",
       "        0.87398881,  0.88280672,  0.87387236,  0.86885467,  0.87022165,\n",
       "        0.86485928,  0.85184412,  0.88697281,  0.94053081,  0.86012279,\n",
       "        0.86110293,  0.86494741,  1.22328989,  0.86505066,  1.05958306,\n",
       "        0.87593751,  0.31521205,  0.87252777,  1.00221135,  0.86081958,\n",
       "        0.8583997 ,  0.33340939,  0.86848034,  0.87707198,  0.69891319,\n",
       "        0.86731446,  0.85741648,  0.16944435,  0.98961066,  0.8756011 ,\n",
       "       -0.09723749,  0.62623903,  1.34661759,  1.38301426,  0.85599003,\n",
       "        0.19712904,  0.86555121,  0.85131224,  0.84837948,  0.84828494,\n",
       "        0.84975951,  0.84875119, -0.21902929,  0.8936748 ,  0.84547413,\n",
       "        0.86728229,  0.84426369,  0.83983358,  0.8441192 ,  0.65086673,\n",
       "        0.84364654,  1.15433116,  0.84251218,  0.83902096,  0.85312416,\n",
       "        0.83589481,  0.83892002,  0.83447685,  0.84066513,  0.83646864,\n",
       "        0.84181047,  0.99146745,  0.2283512 ,  0.84111724,  0.89234689,\n",
       "        0.83393477,  0.83328611,  0.73519597,  0.62288502,  0.7897659 ,\n",
       "        0.7350363 ,  0.8757726 ,  1.40535315,  1.29101282,  0.83337424,\n",
       "        0.84270504,  1.17886318,  0.89650013,  0.86838053,  0.81958413,\n",
       "        1.2222556 ,  0.85884445,  0.82987661,  1.02092438, -0.06534601,\n",
       "        1.05731916,  0.82632237,  0.85926181,  0.82591274,  0.99519747,\n",
       "        0.86237282,  0.82556613,  0.8228181 ,  0.74769146,  0.82377005,\n",
       "        0.98946482,  0.84143954,  0.824898  ,  0.90023938,  0.81230528,\n",
       "       -0.22392197,  0.81856423,  0.8677852 ,  1.04718078,  0.81158055,\n",
       "        0.82041692,  1.27775799,  1.19384647,  1.15274899,  0.4816207 ,\n",
       "        0.82168397,  0.90301938,  0.84188179,  0.82017148,  0.86082806,\n",
       "        0.84997497,  0.8605532 ,  0.81683781,  1.26147429,  0.84324007,\n",
       "        0.8161761 ,  0.84824191,  1.34311537,  0.84742615,  0.82098226,\n",
       "        0.80603476,  0.81504174,  0.81698896,  0.81128206,  0.81444304,\n",
       "        0.81639026,  0.81068337,  0.81610667,  0.83262975, 16.82969339,\n",
       "       16.90939214, 10.56902479,  6.93218534,  9.94908063,  6.24821443,\n",
       "        4.64376203,  4.96659024,  4.72587692,  7.63453766,  6.06523279,\n",
       "        3.13339012,  4.73259152,  5.35277782,  6.63554413,  1.87344891,\n",
       "        2.46319849,  6.37119936,  1.94253215,  4.24654415,  4.09803907,\n",
       "        3.73279229,  5.34859985,  3.99498233,  5.29211798,  1.41528712,\n",
       "        3.39954799,  1.62702834,  1.30978755,  4.65432271,  3.37316526,\n",
       "        3.41839843,  3.24671655,  3.97655771,  4.05561546,  3.40740763,\n",
       "        3.34439393,  2.38405722,  3.61803872,  1.91957317,  4.10159152,\n",
       "        2.6513612 ,  2.72292988,  2.53469744,  2.05574641,  3.52822747,\n",
       "        2.58324459,  3.29901301,  3.04003531,  2.62770926,  2.40037086,\n",
       "        2.74721938,  2.78418476,  2.78222547,  3.09699604,  1.87170712,\n",
       "        1.54769254,  2.84221899,  3.46381967,  2.40298243,  2.93592341,\n",
       "        3.12517173,  2.13200186,  0.93834846,  1.75393398,  2.49426233,\n",
       "        0.57684379,  1.81645157,  2.40419446,  2.47398693,  2.14337243,\n",
       "        2.47080419,  1.25644087,  2.24255425,  1.27010293,  2.15032276,\n",
       "        2.41771623,  2.6247362 ,  2.53073475,  2.14723275,  0.55667007,\n",
       "        2.02663338,  2.99524824,  2.15247964,  1.33041759,  1.97909775,\n",
       "        1.59464006,  1.04563797,  2.36309631,  2.22586929,  3.16750687,\n",
       "        2.11953415,  2.06532662,  2.13729709,  2.33036862,  1.85170831,\n",
       "        2.00583845,  1.73662847,  1.37889371,  1.37580234,  1.99206686,\n",
       "        1.85569051,  1.58099048,  1.97452827,  1.78602264,  1.60384262,\n",
       "        1.7903304 ,  1.36205646,  2.14263607,  1.93730042,  2.2396759 ,\n",
       "        1.63510256,  2.45927591,  1.67723998,  2.10756686,  1.11467036,\n",
       "        1.93335248,  1.60840341,  1.21079927,  1.69677726,  1.39857472,\n",
       "        1.64039466,  1.44756499,  1.6845072 ,  1.19611272,  1.25646942,\n",
       "        1.99349891,  1.76344868,  1.75448319,  1.24228285,  1.88191957,\n",
       "        1.20445738,  2.21967464,  1.20802246,  0.86771251,  1.24139961,\n",
       "        1.67951436,  1.67266778,  1.64837705,  1.67738496,  1.58725852,\n",
       "        1.6601035 ,  1.71270068,  1.64158501,  1.22127266,  1.72436146,\n",
       "        1.17343157,  0.92708228,  1.42206545,  1.57439948,  1.71973279,\n",
       "        1.48755227,  2.14412221,  0.81139793,  1.46669385,  1.51515864,\n",
       "        1.45111615,  1.20111246,  1.76554026,  1.11918828,  1.61213494,\n",
       "        1.12517459,  1.79373857,  1.69019279,  1.73019197,  0.55131066,\n",
       "        1.4985341 ,  1.16638511,  1.33148133,  1.76757054,  0.7356474 ,\n",
       "        1.47724803,  1.53027994,  1.04979548,  0.74984211,  1.88219841,\n",
       "        1.50873394,  1.80819508,  1.27378287,  0.53992406,  1.3377905 ,\n",
       "        1.28483393,  1.52068476,  1.27847168,  1.126163  ,  1.31494875,\n",
       "        1.16959229,  1.70704513,  0.9576081 ,  1.33613137,  1.67378926,\n",
       "        1.26333795,  1.49495173,  1.11278609,  1.4245628 ,  1.58923317,\n",
       "        1.32253958,  1.02792804,  1.71753745,  1.37695782,  1.5624621 ,\n",
       "        1.70133916,  1.53354866,  1.39030156,  1.13396609,  1.26758502,\n",
       "        0.17724573,  1.34735816,  1.47238805,  0.87540888,  1.58957511,\n",
       "        1.33459853,  1.08713682,  0.61215178,  1.0922068 ,  1.66113595,\n",
       "        0.75219571,  1.09236258,  1.35153251,  1.69813523,  1.34177706,\n",
       "        1.29136964,  1.43520926,  1.34348711])"
      ]
     },
     "execution_count": 47,
     "metadata": {},
     "output_type": "execute_result"
    }
   ],
   "source": [
    "y_pred = regr.predict(X_test_new)\n",
    "y_pred"
   ]
  },
  {
   "cell_type": "code",
   "execution_count": 48,
   "metadata": {},
   "outputs": [],
   "source": [
    "#create new results dataframe\n",
    "results_df = pd.DataFrame(y_pred)"
   ]
  },
  {
   "cell_type": "code",
   "execution_count": 49,
   "metadata": {},
   "outputs": [
    {
     "name": "stdout",
     "output_type": "stream",
     "text": [
      "          0\n",
      "0  0.844115\n",
      "1  1.114637\n",
      "2  0.841247\n",
      "3 -0.201667\n",
      "4  0.850781\n",
      "<class 'pandas.core.frame.DataFrame'>\n",
      "RangeIndex: 753 entries, 0 to 752\n",
      "Data columns (total 1 columns):\n",
      " #   Column  Non-Null Count  Dtype  \n",
      "---  ------  --------------  -----  \n",
      " 0   0       753 non-null    float64\n",
      "dtypes: float64(1)\n",
      "memory usage: 6.0 KB\n",
      "None\n"
     ]
    }
   ],
   "source": [
    "print(results_df.head())\n",
    "print(results_df.info())"
   ]
  },
  {
   "cell_type": "code",
   "execution_count": 52,
   "metadata": {},
   "outputs": [
    {
     "ename": "PermissionError",
     "evalue": "[Errno 13] Permission denied: 'output.csv'",
     "output_type": "error",
     "traceback": [
      "\u001b[1;31m---------------------------------------------------------------------------\u001b[0m",
      "\u001b[1;31mPermissionError\u001b[0m                           Traceback (most recent call last)",
      "\u001b[1;32m<ipython-input-52-b306bbd2e117>\u001b[0m in \u001b[0;36m<module>\u001b[1;34m\u001b[0m\n\u001b[0;32m      2\u001b[0m \u001b[0moutput\u001b[0m\u001b[1;33m[\u001b[0m\u001b[1;34m'ID'\u001b[0m\u001b[1;33m]\u001b[0m \u001b[1;33m=\u001b[0m \u001b[0mX_test_new\u001b[0m\u001b[1;33m[\u001b[0m\u001b[1;34m'ID'\u001b[0m\u001b[1;33m]\u001b[0m\u001b[1;33m\u001b[0m\u001b[1;33m\u001b[0m\u001b[0m\n\u001b[0;32m      3\u001b[0m \u001b[0moutput\u001b[0m\u001b[1;33m[\u001b[0m\u001b[1;34m'Expected'\u001b[0m\u001b[1;33m]\u001b[0m \u001b[1;33m=\u001b[0m \u001b[0my_pred\u001b[0m\u001b[1;33m\u001b[0m\u001b[1;33m\u001b[0m\u001b[0m\n\u001b[1;32m----> 4\u001b[1;33m \u001b[0moutput\u001b[0m\u001b[1;33m.\u001b[0m\u001b[0mto_csv\u001b[0m\u001b[1;33m(\u001b[0m\u001b[1;34m'output.csv'\u001b[0m\u001b[1;33m,\u001b[0m \u001b[0mindex\u001b[0m \u001b[1;33m=\u001b[0m \u001b[1;32mFalse\u001b[0m\u001b[1;33m)\u001b[0m\u001b[1;33m\u001b[0m\u001b[1;33m\u001b[0m\u001b[0m\n\u001b[0m",
      "\u001b[1;32m~\\anaconda3\\lib\\site-packages\\pandas\\core\\generic.py\u001b[0m in \u001b[0;36mto_csv\u001b[1;34m(self, path_or_buf, sep, na_rep, float_format, columns, header, index, index_label, mode, encoding, compression, quoting, quotechar, line_terminator, chunksize, date_format, doublequote, escapechar, decimal)\u001b[0m\n\u001b[0;32m   3202\u001b[0m             \u001b[0mdecimal\u001b[0m\u001b[1;33m=\u001b[0m\u001b[0mdecimal\u001b[0m\u001b[1;33m,\u001b[0m\u001b[1;33m\u001b[0m\u001b[1;33m\u001b[0m\u001b[0m\n\u001b[0;32m   3203\u001b[0m         )\n\u001b[1;32m-> 3204\u001b[1;33m         \u001b[0mformatter\u001b[0m\u001b[1;33m.\u001b[0m\u001b[0msave\u001b[0m\u001b[1;33m(\u001b[0m\u001b[1;33m)\u001b[0m\u001b[1;33m\u001b[0m\u001b[1;33m\u001b[0m\u001b[0m\n\u001b[0m\u001b[0;32m   3205\u001b[0m \u001b[1;33m\u001b[0m\u001b[0m\n\u001b[0;32m   3206\u001b[0m         \u001b[1;32mif\u001b[0m \u001b[0mpath_or_buf\u001b[0m \u001b[1;32mis\u001b[0m \u001b[1;32mNone\u001b[0m\u001b[1;33m:\u001b[0m\u001b[1;33m\u001b[0m\u001b[1;33m\u001b[0m\u001b[0m\n",
      "\u001b[1;32m~\\anaconda3\\lib\\site-packages\\pandas\\io\\formats\\csvs.py\u001b[0m in \u001b[0;36msave\u001b[1;34m(self)\u001b[0m\n\u001b[0;32m    182\u001b[0m             \u001b[0mclose\u001b[0m \u001b[1;33m=\u001b[0m \u001b[1;32mFalse\u001b[0m\u001b[1;33m\u001b[0m\u001b[1;33m\u001b[0m\u001b[0m\n\u001b[0;32m    183\u001b[0m         \u001b[1;32melse\u001b[0m\u001b[1;33m:\u001b[0m\u001b[1;33m\u001b[0m\u001b[1;33m\u001b[0m\u001b[0m\n\u001b[1;32m--> 184\u001b[1;33m             f, handles = get_handle(\n\u001b[0m\u001b[0;32m    185\u001b[0m                 \u001b[0mself\u001b[0m\u001b[1;33m.\u001b[0m\u001b[0mpath_or_buf\u001b[0m\u001b[1;33m,\u001b[0m\u001b[1;33m\u001b[0m\u001b[1;33m\u001b[0m\u001b[0m\n\u001b[0;32m    186\u001b[0m                 \u001b[0mself\u001b[0m\u001b[1;33m.\u001b[0m\u001b[0mmode\u001b[0m\u001b[1;33m,\u001b[0m\u001b[1;33m\u001b[0m\u001b[1;33m\u001b[0m\u001b[0m\n",
      "\u001b[1;32m~\\anaconda3\\lib\\site-packages\\pandas\\io\\common.py\u001b[0m in \u001b[0;36mget_handle\u001b[1;34m(path_or_buf, mode, encoding, compression, memory_map, is_text)\u001b[0m\n\u001b[0;32m    426\u001b[0m         \u001b[1;32mif\u001b[0m \u001b[0mencoding\u001b[0m\u001b[1;33m:\u001b[0m\u001b[1;33m\u001b[0m\u001b[1;33m\u001b[0m\u001b[0m\n\u001b[0;32m    427\u001b[0m             \u001b[1;31m# Encoding\u001b[0m\u001b[1;33m\u001b[0m\u001b[1;33m\u001b[0m\u001b[1;33m\u001b[0m\u001b[0m\n\u001b[1;32m--> 428\u001b[1;33m             \u001b[0mf\u001b[0m \u001b[1;33m=\u001b[0m \u001b[0mopen\u001b[0m\u001b[1;33m(\u001b[0m\u001b[0mpath_or_buf\u001b[0m\u001b[1;33m,\u001b[0m \u001b[0mmode\u001b[0m\u001b[1;33m,\u001b[0m \u001b[0mencoding\u001b[0m\u001b[1;33m=\u001b[0m\u001b[0mencoding\u001b[0m\u001b[1;33m,\u001b[0m \u001b[0mnewline\u001b[0m\u001b[1;33m=\u001b[0m\u001b[1;34m\"\"\u001b[0m\u001b[1;33m)\u001b[0m\u001b[1;33m\u001b[0m\u001b[1;33m\u001b[0m\u001b[0m\n\u001b[0m\u001b[0;32m    429\u001b[0m         \u001b[1;32melif\u001b[0m \u001b[0mis_text\u001b[0m\u001b[1;33m:\u001b[0m\u001b[1;33m\u001b[0m\u001b[1;33m\u001b[0m\u001b[0m\n\u001b[0;32m    430\u001b[0m             \u001b[1;31m# No explicit encoding\u001b[0m\u001b[1;33m\u001b[0m\u001b[1;33m\u001b[0m\u001b[1;33m\u001b[0m\u001b[0m\n",
      "\u001b[1;31mPermissionError\u001b[0m: [Errno 13] Permission denied: 'output.csv'"
     ]
    }
   ],
   "source": [
    "output = pd.DataFrame()\n",
    "output['ID'] = X_test_new['ID']\n",
    "output['Expected'] = y_pred\n",
    "output.to_csv('output.csv', index = False)\n"
   ]
  },
  {
   "cell_type": "code",
   "execution_count": 54,
   "metadata": {},
   "outputs": [
    {
     "name": "stdout",
     "output_type": "stream",
     "text": [
      "27       95\n",
      "29      172\n",
      "30      246\n",
      "31      290\n",
      "32      326\n",
      "       ... \n",
      "743    7812\n",
      "745    7876\n",
      "748    8059\n",
      "749    8093\n",
      "751    8145\n",
      "Name: ID, Length: 333, dtype: int64\n"
     ]
    }
   ],
   "source": []
  },
  {
   "cell_type": "code",
   "execution_count": 56,
   "metadata": {},
   "outputs": [],
   "source": []
  },
  {
   "cell_type": "code",
   "execution_count": 60,
   "metadata": {},
   "outputs": [
    {
     "name": "stdout",
     "output_type": "stream",
     "text": [
      "             0       ID\n",
      "0    -0.099819      NaN\n",
      "1    -0.092064      NaN\n",
      "2     0.066011      NaN\n",
      "3     6.746447      NaN\n",
      "4    -0.118870      NaN\n",
      "..         ...      ...\n",
      "352   0.603566      NaN\n",
      "353  20.507660  14342.0\n",
      "354   1.095071      NaN\n",
      "355   0.480422      NaN\n",
      "356   1.821252      NaN\n",
      "\n",
      "[357 rows x 2 columns]\n"
     ]
    }
   ],
   "source": [
    "print(results_df)"
   ]
  },
  {
   "cell_type": "code",
   "execution_count": null,
   "metadata": {},
   "outputs": [],
   "source": []
  }
 ],
 "metadata": {
  "kernelspec": {
   "display_name": "Python 3",
   "language": "python",
   "name": "python3"
  },
  "language_info": {
   "codemirror_mode": {
    "name": "ipython",
    "version": 3
   },
   "file_extension": ".py",
   "mimetype": "text/x-python",
   "name": "python",
   "nbconvert_exporter": "python",
   "pygments_lexer": "ipython3",
   "version": "3.8.3"
  }
 },
 "nbformat": 4,
 "nbformat_minor": 4
}
