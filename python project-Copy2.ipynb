{
 "cells": [
  {
   "cell_type": "code",
   "execution_count": 388,
   "metadata": {},
   "outputs": [],
   "source": [
    "import matplotlib.pyplot as plt\n",
    "import seaborn as sns\n",
    "plt.style.use('/Users/Oller/Downloads/Datern.mplstyle')\n",
    "\n",
    "import numpy as np\n",
    "import pandas as pd\n",
    "\n",
    "#Gradient colours\n",
    "from matplotlib.colors import LinearSegmentedColormap\n",
    "nodes = [0, 0.5,1.0]\n",
    "color = ['#00ACF0','#ffffff','#A834FF']\n",
    "cmap = LinearSegmentedColormap.from_list(\"\", list(zip(nodes, color)))\n",
    "\n",
    "%config InlineBackend.figure_format='retina'"
   ]
  },
  {
   "cell_type": "code",
   "execution_count": 389,
   "metadata": {},
   "outputs": [],
   "source": [
    "df = pd.read_csv(\"/Users/Oller/Downloads/Kaggle_Datern_Training_Set.csv\")"
   ]
  },
  {
   "cell_type": "code",
   "execution_count": 390,
   "metadata": {},
   "outputs": [
    {
     "name": "stdout",
     "output_type": "stream",
     "text": [
      "<class 'pandas.core.frame.DataFrame'>\n",
      "RangeIndex: 15966 entries, 0 to 15965\n",
      "Data columns (total 14 columns):\n",
      " #   Column           Non-Null Count  Dtype  \n",
      "---  ------           --------------  -----  \n",
      " 0   ID               15966 non-null  int64  \n",
      " 1   Name             15964 non-null  object \n",
      " 2   Platform         15966 non-null  object \n",
      " 3   Year_of_Release  15720 non-null  float64\n",
      " 4   Genre            15964 non-null  object \n",
      " 5   Publisher        15918 non-null  object \n",
      " 6   EU_Sales         15966 non-null  float64\n",
      " 7   Global_Sales     15966 non-null  float64\n",
      " 8   Critic_Score     7771 non-null   float64\n",
      " 9   Critic_Count     7771 non-null   float64\n",
      " 10  User_Score       9545 non-null   object \n",
      " 11  User_Count       7161 non-null   float64\n",
      " 12  Developer        9608 non-null   object \n",
      " 13  Rating           9496 non-null   object \n",
      "dtypes: float64(6), int64(1), object(7)\n",
      "memory usage: 1.7+ MB\n"
     ]
    }
   ],
   "source": [
    "df.head()\n",
    "df.info()\n"
   ]
  },
  {
   "cell_type": "code",
   "execution_count": 391,
   "metadata": {},
   "outputs": [],
   "source": [
    "#cleaning data\n",
    "df = pd.read_csv(\"/Users/Oller/Downloads/Kaggle_Datern_Training_Set.csv\")\n",
    "#df.reset_index(drop=True)\n",
    "#df_populated =df.dropna()\n",
    "#df_populated_indexed = df_populated.reset_index(drop=True)\n",
    "#new_df = df_populated_indexed"
   ]
  },
  {
   "cell_type": "code",
   "execution_count": 392,
   "metadata": {},
   "outputs": [],
   "source": [
    "df['Publisher'] = df['Publisher'].replace(to_replace='Null',value = 'EA' )\n",
    "#df['Developer'] = df['Developer'].replace(to_replace='',value = 'Ubisoft' )\n",
    "#df['Platform'] = df['Platform'].replace(to_replace='Unknown',value = 'PS2' )\n",
    "df['Genre'] = df['Genre'].replace(to_replace='',value = 'Action' )\n",
    "df = df.drop(['Developer'], axis=1)\n",
    "df = df.drop(['Year_of_Release'], axis =1)\n",
    "df = df.drop(['Name'], axis=1)\n",
    "#df = df.drop(['Critic_Count'], axis=1)\n",
    "df = df.drop(['User_Count'], axis=1)\n",
    "df = df.drop(['Rating'], axis=1)\n",
    "df=df.drop(['Publisher'], axis=1)\n",
    "df['Critic_Score'] = df['Critic_Score'].fillna(73.76776)\n",
    "df['Critic_Count'] = df['Critic_Count'].fillna(33.96)\n",
    "df['User_Score'] = df['User_Score'].replace(to_replace='tbd',value = '6.612587')\n",
    "\n",
    "df['User_Score'] = df['User_Score'].fillna(6.612587)\n",
    "df = df.drop([15601, 15659])"
   ]
  },
  {
   "cell_type": "code",
   "execution_count": 393,
   "metadata": {},
   "outputs": [
    {
     "name": "stdout",
     "output_type": "stream",
     "text": [
      "<class 'pandas.core.frame.DataFrame'>\n",
      "Int64Index: 15964 entries, 0 to 15965\n",
      "Data columns (total 8 columns):\n",
      " #   Column        Non-Null Count  Dtype  \n",
      "---  ------        --------------  -----  \n",
      " 0   ID            15964 non-null  int64  \n",
      " 1   Platform      15964 non-null  object \n",
      " 2   Genre         15964 non-null  object \n",
      " 3   EU_Sales      15964 non-null  float64\n",
      " 4   Global_Sales  15964 non-null  float64\n",
      " 5   Critic_Score  15964 non-null  float64\n",
      " 6   Critic_Count  15964 non-null  float64\n",
      " 7   User_Score    15964 non-null  object \n",
      "dtypes: float64(4), int64(1), object(3)\n",
      "memory usage: 1.1+ MB\n"
     ]
    }
   ],
   "source": [
    "df.head()\n",
    "df.info()"
   ]
  },
  {
   "cell_type": "code",
   "execution_count": 394,
   "metadata": {},
   "outputs": [],
   "source": [
    "#df['Platform'] = df['Platform'].astype(\"string\")\n",
    "\n",
    "#encoding data for platform genre and rating\n",
    "# Encoding Platform\n",
    "from sklearn.preprocessing import LabelEncoder\n",
    "labelencoder1 = LabelEncoder()\n",
    "df.iloc[:, 1] = labelencoder1.fit_transform(df.iloc[:, 1])\n",
    "\n",
    "\n",
    "#encoding genre\n",
    "labelencoder1 = LabelEncoder()\n",
    "df.iloc[:, 2] = labelencoder1.fit_transform(df.iloc[:, 2])\n",
    "\n",
    "#encoding rating \n",
    "#labelencoder1 = LabelEncoder()\n",
    "#df.iloc[:, 13] = labelencoder1.fit_transform(df.iloc[:, 13])"
   ]
  },
  {
   "cell_type": "code",
   "execution_count": 395,
   "metadata": {},
   "outputs": [],
   "source": [
    "\n",
    "#print(df_populated_indexed)\n",
    "#features = df_populated_indexed[['ID','Platform','Genre', 'Publisher', 'EU_Sales', 'Critic_Score', 'User_Score']]\n",
    "#print(features)\n",
    "#add all the variables we want to include: genre, platform, rating, eu sales, critic score, user_score"
   ]
  },
  {
   "cell_type": "code",
   "execution_count": 396,
   "metadata": {},
   "outputs": [
    {
     "name": "stdout",
     "output_type": "stream",
     "text": [
      "    ID  Platform  Genre  EU_Sales  Global_Sales  Critic_Score  Critic_Count  \\\n",
      "0  184        16     10      0.26          5.23      94.00000         29.00   \n",
      "1  378        16     10      2.36          3.49      84.00000         20.00   \n",
      "2  457        26      0      0.97          3.06      74.00000         17.00   \n",
      "3  476        16      2      1.02          3.00      73.76776         33.96   \n",
      "4  610         0      8      0.14          2.53      73.76776         33.96   \n",
      "\n",
      "   User_Score  \n",
      "0    8.500000  \n",
      "1    6.400000  \n",
      "2    7.900000  \n",
      "3    6.612587  \n",
      "4    6.612587  \n"
     ]
    }
   ],
   "source": [
    "#add a new column with EU_Sales * User_Score\n",
    "df['User_Score']= df.User_Score.astype(float)\n",
    "#df['EU_Sales_x_Score'] = df['EU_Sales']* df['User_Score']\n",
    "print(df.head())"
   ]
  },
  {
   "cell_type": "code",
   "execution_count": 397,
   "metadata": {},
   "outputs": [
    {
     "name": "stdout",
     "output_type": "stream",
     "text": [
      "       Platform  Genre  EU_Sales  Critic_Score  Critic_Count  User_Score\n",
      "0            16     10      0.26      94.00000         29.00    8.500000\n",
      "1            16     10      2.36      84.00000         20.00    6.400000\n",
      "2            26      0      0.97      74.00000         17.00    7.900000\n",
      "3            16      2      1.02      73.76776         33.96    6.612587\n",
      "4             0      8      0.14      73.76776         33.96    6.612587\n",
      "...         ...    ...       ...           ...           ...         ...\n",
      "15961         0      2      0.04      73.76776         33.96    6.612587\n",
      "15962         0     10      0.03      73.76776         33.96    6.612587\n",
      "15963         0      0      0.02      73.76776         33.96    6.612587\n",
      "15964         0      3      0.02      73.76776         33.96    6.612587\n",
      "15965         0      3      0.01      73.76776         33.96    6.612587\n",
      "\n",
      "[15964 rows x 6 columns]\n"
     ]
    }
   ],
   "source": [
    "#separating into response matrix (x) and vector of targets(y)\n",
    "\n",
    "\n",
    "Y = df.iloc[:,4]\n",
    "\n",
    "#df_populated_indexed.info()\n",
    "\n",
    "X = df.drop(['Global_Sales'], axis=1)\n",
    "X = X.drop(['ID'], axis=1)\n",
    "\n",
    "print(X)"
   ]
  },
  {
   "cell_type": "code",
   "execution_count": 386,
   "metadata": {},
   "outputs": [
    {
     "ename": "ValueError",
     "evalue": "Input contains NaN, infinity or a value too large for dtype('float64').",
     "output_type": "error",
     "traceback": [
      "\u001b[1;31m---------------------------------------------------------------------------\u001b[0m",
      "\u001b[1;31mValueError\u001b[0m                                Traceback (most recent call last)",
      "\u001b[1;32m<ipython-input-386-c488bee65dd5>\u001b[0m in \u001b[0;36m<module>\u001b[1;34m\u001b[0m\n\u001b[0;32m      4\u001b[0m \u001b[1;33m\u001b[0m\u001b[0m\n\u001b[0;32m      5\u001b[0m \u001b[1;31m# Train the model using the training sets\u001b[0m\u001b[1;33m\u001b[0m\u001b[1;33m\u001b[0m\u001b[1;33m\u001b[0m\u001b[0m\n\u001b[1;32m----> 6\u001b[1;33m \u001b[0mregr\u001b[0m\u001b[1;33m.\u001b[0m\u001b[0mfit\u001b[0m\u001b[1;33m(\u001b[0m\u001b[0mX\u001b[0m\u001b[1;33m,\u001b[0m \u001b[0mY\u001b[0m\u001b[1;33m)\u001b[0m\u001b[1;33m\u001b[0m\u001b[1;33m\u001b[0m\u001b[0m\n\u001b[0m",
      "\u001b[1;32m~\\anaconda3\\lib\\site-packages\\sklearn\\linear_model\\_base.py\u001b[0m in \u001b[0;36mfit\u001b[1;34m(self, X, y, sample_weight)\u001b[0m\n\u001b[0;32m    503\u001b[0m \u001b[1;33m\u001b[0m\u001b[0m\n\u001b[0;32m    504\u001b[0m         \u001b[0mn_jobs_\u001b[0m \u001b[1;33m=\u001b[0m \u001b[0mself\u001b[0m\u001b[1;33m.\u001b[0m\u001b[0mn_jobs\u001b[0m\u001b[1;33m\u001b[0m\u001b[1;33m\u001b[0m\u001b[0m\n\u001b[1;32m--> 505\u001b[1;33m         X, y = self._validate_data(X, y, accept_sparse=['csr', 'csc', 'coo'],\n\u001b[0m\u001b[0;32m    506\u001b[0m                                    y_numeric=True, multi_output=True)\n\u001b[0;32m    507\u001b[0m \u001b[1;33m\u001b[0m\u001b[0m\n",
      "\u001b[1;32m~\\anaconda3\\lib\\site-packages\\sklearn\\base.py\u001b[0m in \u001b[0;36m_validate_data\u001b[1;34m(self, X, y, reset, validate_separately, **check_params)\u001b[0m\n\u001b[0;32m    430\u001b[0m                 \u001b[0my\u001b[0m \u001b[1;33m=\u001b[0m \u001b[0mcheck_array\u001b[0m\u001b[1;33m(\u001b[0m\u001b[0my\u001b[0m\u001b[1;33m,\u001b[0m \u001b[1;33m**\u001b[0m\u001b[0mcheck_y_params\u001b[0m\u001b[1;33m)\u001b[0m\u001b[1;33m\u001b[0m\u001b[1;33m\u001b[0m\u001b[0m\n\u001b[0;32m    431\u001b[0m             \u001b[1;32melse\u001b[0m\u001b[1;33m:\u001b[0m\u001b[1;33m\u001b[0m\u001b[1;33m\u001b[0m\u001b[0m\n\u001b[1;32m--> 432\u001b[1;33m                 \u001b[0mX\u001b[0m\u001b[1;33m,\u001b[0m \u001b[0my\u001b[0m \u001b[1;33m=\u001b[0m \u001b[0mcheck_X_y\u001b[0m\u001b[1;33m(\u001b[0m\u001b[0mX\u001b[0m\u001b[1;33m,\u001b[0m \u001b[0my\u001b[0m\u001b[1;33m,\u001b[0m \u001b[1;33m**\u001b[0m\u001b[0mcheck_params\u001b[0m\u001b[1;33m)\u001b[0m\u001b[1;33m\u001b[0m\u001b[1;33m\u001b[0m\u001b[0m\n\u001b[0m\u001b[0;32m    433\u001b[0m             \u001b[0mout\u001b[0m \u001b[1;33m=\u001b[0m \u001b[0mX\u001b[0m\u001b[1;33m,\u001b[0m \u001b[0my\u001b[0m\u001b[1;33m\u001b[0m\u001b[1;33m\u001b[0m\u001b[0m\n\u001b[0;32m    434\u001b[0m \u001b[1;33m\u001b[0m\u001b[0m\n",
      "\u001b[1;32m~\\anaconda3\\lib\\site-packages\\sklearn\\utils\\validation.py\u001b[0m in \u001b[0;36minner_f\u001b[1;34m(*args, **kwargs)\u001b[0m\n\u001b[0;32m     71\u001b[0m                           FutureWarning)\n\u001b[0;32m     72\u001b[0m         \u001b[0mkwargs\u001b[0m\u001b[1;33m.\u001b[0m\u001b[0mupdate\u001b[0m\u001b[1;33m(\u001b[0m\u001b[1;33m{\u001b[0m\u001b[0mk\u001b[0m\u001b[1;33m:\u001b[0m \u001b[0marg\u001b[0m \u001b[1;32mfor\u001b[0m \u001b[0mk\u001b[0m\u001b[1;33m,\u001b[0m \u001b[0marg\u001b[0m \u001b[1;32min\u001b[0m \u001b[0mzip\u001b[0m\u001b[1;33m(\u001b[0m\u001b[0msig\u001b[0m\u001b[1;33m.\u001b[0m\u001b[0mparameters\u001b[0m\u001b[1;33m,\u001b[0m \u001b[0margs\u001b[0m\u001b[1;33m)\u001b[0m\u001b[1;33m}\u001b[0m\u001b[1;33m)\u001b[0m\u001b[1;33m\u001b[0m\u001b[1;33m\u001b[0m\u001b[0m\n\u001b[1;32m---> 73\u001b[1;33m         \u001b[1;32mreturn\u001b[0m \u001b[0mf\u001b[0m\u001b[1;33m(\u001b[0m\u001b[1;33m**\u001b[0m\u001b[0mkwargs\u001b[0m\u001b[1;33m)\u001b[0m\u001b[1;33m\u001b[0m\u001b[1;33m\u001b[0m\u001b[0m\n\u001b[0m\u001b[0;32m     74\u001b[0m     \u001b[1;32mreturn\u001b[0m \u001b[0minner_f\u001b[0m\u001b[1;33m\u001b[0m\u001b[1;33m\u001b[0m\u001b[0m\n\u001b[0;32m     75\u001b[0m \u001b[1;33m\u001b[0m\u001b[0m\n",
      "\u001b[1;32m~\\anaconda3\\lib\\site-packages\\sklearn\\utils\\validation.py\u001b[0m in \u001b[0;36mcheck_X_y\u001b[1;34m(X, y, accept_sparse, accept_large_sparse, dtype, order, copy, force_all_finite, ensure_2d, allow_nd, multi_output, ensure_min_samples, ensure_min_features, y_numeric, estimator)\u001b[0m\n\u001b[0;32m    794\u001b[0m         \u001b[1;32mraise\u001b[0m \u001b[0mValueError\u001b[0m\u001b[1;33m(\u001b[0m\u001b[1;34m\"y cannot be None\"\u001b[0m\u001b[1;33m)\u001b[0m\u001b[1;33m\u001b[0m\u001b[1;33m\u001b[0m\u001b[0m\n\u001b[0;32m    795\u001b[0m \u001b[1;33m\u001b[0m\u001b[0m\n\u001b[1;32m--> 796\u001b[1;33m     X = check_array(X, accept_sparse=accept_sparse,\n\u001b[0m\u001b[0;32m    797\u001b[0m                     \u001b[0maccept_large_sparse\u001b[0m\u001b[1;33m=\u001b[0m\u001b[0maccept_large_sparse\u001b[0m\u001b[1;33m,\u001b[0m\u001b[1;33m\u001b[0m\u001b[1;33m\u001b[0m\u001b[0m\n\u001b[0;32m    798\u001b[0m                     \u001b[0mdtype\u001b[0m\u001b[1;33m=\u001b[0m\u001b[0mdtype\u001b[0m\u001b[1;33m,\u001b[0m \u001b[0morder\u001b[0m\u001b[1;33m=\u001b[0m\u001b[0morder\u001b[0m\u001b[1;33m,\u001b[0m \u001b[0mcopy\u001b[0m\u001b[1;33m=\u001b[0m\u001b[0mcopy\u001b[0m\u001b[1;33m,\u001b[0m\u001b[1;33m\u001b[0m\u001b[1;33m\u001b[0m\u001b[0m\n",
      "\u001b[1;32m~\\anaconda3\\lib\\site-packages\\sklearn\\utils\\validation.py\u001b[0m in \u001b[0;36minner_f\u001b[1;34m(*args, **kwargs)\u001b[0m\n\u001b[0;32m     71\u001b[0m                           FutureWarning)\n\u001b[0;32m     72\u001b[0m         \u001b[0mkwargs\u001b[0m\u001b[1;33m.\u001b[0m\u001b[0mupdate\u001b[0m\u001b[1;33m(\u001b[0m\u001b[1;33m{\u001b[0m\u001b[0mk\u001b[0m\u001b[1;33m:\u001b[0m \u001b[0marg\u001b[0m \u001b[1;32mfor\u001b[0m \u001b[0mk\u001b[0m\u001b[1;33m,\u001b[0m \u001b[0marg\u001b[0m \u001b[1;32min\u001b[0m \u001b[0mzip\u001b[0m\u001b[1;33m(\u001b[0m\u001b[0msig\u001b[0m\u001b[1;33m.\u001b[0m\u001b[0mparameters\u001b[0m\u001b[1;33m,\u001b[0m \u001b[0margs\u001b[0m\u001b[1;33m)\u001b[0m\u001b[1;33m}\u001b[0m\u001b[1;33m)\u001b[0m\u001b[1;33m\u001b[0m\u001b[1;33m\u001b[0m\u001b[0m\n\u001b[1;32m---> 73\u001b[1;33m         \u001b[1;32mreturn\u001b[0m \u001b[0mf\u001b[0m\u001b[1;33m(\u001b[0m\u001b[1;33m**\u001b[0m\u001b[0mkwargs\u001b[0m\u001b[1;33m)\u001b[0m\u001b[1;33m\u001b[0m\u001b[1;33m\u001b[0m\u001b[0m\n\u001b[0m\u001b[0;32m     74\u001b[0m     \u001b[1;32mreturn\u001b[0m \u001b[0minner_f\u001b[0m\u001b[1;33m\u001b[0m\u001b[1;33m\u001b[0m\u001b[0m\n\u001b[0;32m     75\u001b[0m \u001b[1;33m\u001b[0m\u001b[0m\n",
      "\u001b[1;32m~\\anaconda3\\lib\\site-packages\\sklearn\\utils\\validation.py\u001b[0m in \u001b[0;36mcheck_array\u001b[1;34m(array, accept_sparse, accept_large_sparse, dtype, order, copy, force_all_finite, ensure_2d, allow_nd, ensure_min_samples, ensure_min_features, estimator)\u001b[0m\n\u001b[0;32m    643\u001b[0m \u001b[1;33m\u001b[0m\u001b[0m\n\u001b[0;32m    644\u001b[0m         \u001b[1;32mif\u001b[0m \u001b[0mforce_all_finite\u001b[0m\u001b[1;33m:\u001b[0m\u001b[1;33m\u001b[0m\u001b[1;33m\u001b[0m\u001b[0m\n\u001b[1;32m--> 645\u001b[1;33m             _assert_all_finite(array,\n\u001b[0m\u001b[0;32m    646\u001b[0m                                allow_nan=force_all_finite == 'allow-nan')\n\u001b[0;32m    647\u001b[0m \u001b[1;33m\u001b[0m\u001b[0m\n",
      "\u001b[1;32m~\\anaconda3\\lib\\site-packages\\sklearn\\utils\\validation.py\u001b[0m in \u001b[0;36m_assert_all_finite\u001b[1;34m(X, allow_nan, msg_dtype)\u001b[0m\n\u001b[0;32m     95\u001b[0m                 not allow_nan and not np.isfinite(X).all()):\n\u001b[0;32m     96\u001b[0m             \u001b[0mtype_err\u001b[0m \u001b[1;33m=\u001b[0m \u001b[1;34m'infinity'\u001b[0m \u001b[1;32mif\u001b[0m \u001b[0mallow_nan\u001b[0m \u001b[1;32melse\u001b[0m \u001b[1;34m'NaN, infinity'\u001b[0m\u001b[1;33m\u001b[0m\u001b[1;33m\u001b[0m\u001b[0m\n\u001b[1;32m---> 97\u001b[1;33m             raise ValueError(\n\u001b[0m\u001b[0;32m     98\u001b[0m                     \u001b[0mmsg_err\u001b[0m\u001b[1;33m.\u001b[0m\u001b[0mformat\u001b[0m\u001b[1;33m\u001b[0m\u001b[1;33m\u001b[0m\u001b[0m\n\u001b[0;32m     99\u001b[0m                     (type_err,\n",
      "\u001b[1;31mValueError\u001b[0m: Input contains NaN, infinity or a value too large for dtype('float64')."
     ]
    }
   ],
   "source": [
    "from sklearn.linear_model import LinearRegression\n",
    "# Create linear regression object\n",
    "regr = LinearRegression()\n",
    "\n",
    "# Train the model using the training sets\n",
    "regr.fit(X, Y)"
   ]
  },
  {
   "cell_type": "code",
   "execution_count": 370,
   "metadata": {},
   "outputs": [],
   "source": [
    "X_test = pd.read_csv(\"/Users/Oller/Downloads/Kaggle_Datern_Test_Set.csv\")"
   ]
  },
  {
   "cell_type": "code",
   "execution_count": 371,
   "metadata": {},
   "outputs": [
    {
     "name": "stdout",
     "output_type": "stream",
     "text": [
      "        ID Platform         Genre  EU_Sales  Critic_Score  Critic_Count  \\\n",
      "0    15707       DS          Misc      0.00           NaN           NaN   \n",
      "1    15757      PS2  Role-Playing      0.01          53.0          17.0   \n",
      "2    15798       DS          Misc      0.00           NaN           NaN   \n",
      "3    15819       XB       Shooter      0.00          45.0          25.0   \n",
      "4    15956       DS        Sports      0.00           NaN           NaN   \n",
      "..     ...      ...           ...       ...           ...           ...   \n",
      "748   8059      PS4      Fighting      0.12          59.0          30.0   \n",
      "749   8093      PSV        Action      0.02          71.0           4.0   \n",
      "750   8142     XOne       Shooter      0.07           NaN           NaN   \n",
      "751   8145      PS4        Action      0.00          67.0          25.0   \n",
      "752   8192      PS4     Adventure      0.05           NaN           NaN   \n",
      "\n",
      "    User_Score  \n",
      "0          NaN  \n",
      "1          7.6  \n",
      "2          NaN  \n",
      "3            2  \n",
      "4          NaN  \n",
      "..         ...  \n",
      "748        7.8  \n",
      "749        7.4  \n",
      "750        NaN  \n",
      "751          8  \n",
      "752        7.1  \n",
      "\n",
      "[753 rows x 7 columns]\n"
     ]
    }
   ],
   "source": [
    "\n",
    "\n",
    "X_test_new = X_test.iloc[:, 0:10]\n",
    "\n",
    "X_test_new = X_test_new.drop(['Name', 'Year_of_Release', 'Publisher'], axis=1)\n",
    "\n",
    "\n",
    "print(X_test_new)\n",
    "X_test_new['User_Score'] = X_test_new['User_Score'].replace(to_replace='tbd',value = 6.612587)\n",
    "X_test_new['User_Score']= X_test_new.User_Score.astype(float)\n",
    "#X_test_new['EU_Sales_x_Score'] = X_test_new['EU_Sales']* X_test_new['User_Score']"
   ]
  },
  {
   "cell_type": "code",
   "execution_count": 372,
   "metadata": {},
   "outputs": [
    {
     "name": "stdout",
     "output_type": "stream",
     "text": [
      "Critic_Score    73.76776\n",
      "dtype: float64\n",
      "0      73.76776\n",
      "1      53.00000\n",
      "2      73.76776\n",
      "3      45.00000\n",
      "4      73.76776\n",
      "         ...   \n",
      "748    59.00000\n",
      "749    71.00000\n",
      "750    73.76776\n",
      "751    67.00000\n",
      "752    73.76776\n",
      "Name: Critic_Score, Length: 753, dtype: float64\n",
      "0    6.612587\n",
      "1    7.600000\n",
      "2    6.612587\n",
      "3    2.000000\n",
      "4    6.612587\n",
      "5    6.612587\n",
      "6    6.612587\n",
      "7    6.612587\n",
      "8    6.612587\n",
      "9    6.612587\n",
      "Name: User_Score, dtype: float64\n",
      "0      6.612587\n",
      "1      7.600000\n",
      "2      6.612587\n",
      "3      2.000000\n",
      "4      6.612587\n",
      "         ...   \n",
      "748    7.800000\n",
      "749    7.400000\n",
      "750    6.612587\n",
      "751    8.000000\n",
      "752    7.100000\n",
      "Name: User_Score, Length: 753, dtype: float64\n"
     ]
    }
   ],
   "source": [
    "#X_test_mod = X_test.iloc[:, 0:14:2]\n",
    "#print(X_test_new)\n",
    "#cleaning the test data \n",
    "#X_test_new = X_test_new.dropna()\n",
    "#X_test_new = X_test_new.reset_index(drop=True)\n",
    "###need to replace NaN values \n",
    "#calculate mean critic score and user score, replace NaN with mean \n",
    "Critic_Score_mean = X_test_new[['Critic_Score']].mean()\n",
    "print(Critic_Score_mean)\n",
    "#repopulate the NaN values with the mean critic score\n",
    "X_test_new['Critic_Score'] = X_test_new['Critic_Score'].fillna(73.76776)\n",
    "print(X_test_new['Critic_Score'])\n",
    "# calculate mean user score \n",
    "X_test_new['User_Score'] = X_test_new['User_Score'].fillna(6.612587)\n",
    "#X_test_new_drop_na.apply(lambda x: pd.to_numeric(x, errors='coerce')).dropna()\n",
    "#X_test_new_drop_na = X_test_new.dropna()\n",
    "#print(X_test_new_drop_na[['User_Score']])\n",
    "#User_Score_mean = X_test_new_drop_na[['User_Score']].mean()\n",
    "#print(User_Score_mean)\n",
    "print(X_test_new['User_Score'].head(10))\n",
    "#convert 'tbd' to average\n",
    "X_test_new['User_Score'] = X_test_new['User_Score'].replace(to_replace='tbd',value = 6.612587 )\n",
    "#need to convert all values to float\n",
    "X_test_new['User_Score']= X_test_new.User_Score.astype(float)\n",
    "#pd.Series.X_test_new['User_Score'].astype(float) \n",
    "#for num in X_test_new['User_Score']:\n",
    "    #float(num)\n",
    "print(X_test_new['User_Score'])"
   ]
  },
  {
   "cell_type": "code",
   "execution_count": 373,
   "metadata": {},
   "outputs": [
    {
     "name": "stdout",
     "output_type": "stream",
     "text": [
      "        ID  Platform  Genre  EU_Sales  Critic_Score  Critic_Count  User_Score\n",
      "0    15707         1      3      0.00      73.76776           217    6.612587\n",
      "1    15757         4      7      0.01      53.00000            13    7.600000\n",
      "2    15798         1      3      0.00      73.76776           312    6.612587\n",
      "3    15819        12      8      0.00      45.00000            21    2.000000\n",
      "4    15956         1     10      0.00      73.76776           311    6.612587\n",
      "..     ...       ...    ...       ...           ...           ...         ...\n",
      "748   8059         6      2      0.12      59.00000            26    7.800000\n",
      "749   8093         8      0      0.02      71.00000             0    7.400000\n",
      "750   8142        13      8      0.07      73.76776            92    6.612587\n",
      "751   8145         6      0      0.00      67.00000            21    8.000000\n",
      "752   8192         6      1      0.05      73.76776           477    7.100000\n",
      "\n",
      "[753 rows x 7 columns]\n"
     ]
    }
   ],
   "source": [
    "#encode the test data\n",
    "# columns platform genre and rating need encoding as they are categorical\n",
    "labelencoder1 = LabelEncoder()\n",
    "#encoding platform in test data\n",
    "X_test_new.iloc[:, 1] = labelencoder1.fit_transform(X_test_new.iloc[:, 1])\n",
    "\n",
    "#encoding genre\n",
    "X_test_new.iloc[:, 2] = labelencoder1.fit_transform(X_test_new.iloc[:, 2])\n",
    "\n",
    "#encoding rating\n",
    "X_test_new.iloc[:, 5] = labelencoder1.fit_transform(X_test_new.iloc[:, 5])\n",
    "\n",
    "print(X_test_new)\n",
    "X_test_new = X_test_new.drop(['ID'], axis=1)\n",
    "\n"
   ]
  },
  {
   "cell_type": "code",
   "execution_count": 374,
   "metadata": {},
   "outputs": [
    {
     "ename": "NotFittedError",
     "evalue": "This LinearRegression instance is not fitted yet. Call 'fit' with appropriate arguments before using this estimator.",
     "output_type": "error",
     "traceback": [
      "\u001b[1;31m---------------------------------------------------------------------------\u001b[0m",
      "\u001b[1;31mNotFittedError\u001b[0m                            Traceback (most recent call last)",
      "\u001b[1;32m<ipython-input-374-49a10bd45a20>\u001b[0m in \u001b[0;36m<module>\u001b[1;34m\u001b[0m\n\u001b[1;32m----> 1\u001b[1;33m \u001b[0my_pred\u001b[0m \u001b[1;33m=\u001b[0m \u001b[0mregr\u001b[0m\u001b[1;33m.\u001b[0m\u001b[0mpredict\u001b[0m\u001b[1;33m(\u001b[0m\u001b[0mX_test_new\u001b[0m\u001b[1;33m)\u001b[0m\u001b[1;33m\u001b[0m\u001b[1;33m\u001b[0m\u001b[0m\n\u001b[0m\u001b[0;32m      2\u001b[0m \u001b[0my_pred\u001b[0m\u001b[1;33m\u001b[0m\u001b[1;33m\u001b[0m\u001b[0m\n",
      "\u001b[1;32m~\\anaconda3\\lib\\site-packages\\sklearn\\linear_model\\_base.py\u001b[0m in \u001b[0;36mpredict\u001b[1;34m(self, X)\u001b[0m\n\u001b[0;32m    234\u001b[0m             \u001b[0mReturns\u001b[0m \u001b[0mpredicted\u001b[0m \u001b[0mvalues\u001b[0m\u001b[1;33m.\u001b[0m\u001b[1;33m\u001b[0m\u001b[1;33m\u001b[0m\u001b[0m\n\u001b[0;32m    235\u001b[0m         \"\"\"\n\u001b[1;32m--> 236\u001b[1;33m         \u001b[1;32mreturn\u001b[0m \u001b[0mself\u001b[0m\u001b[1;33m.\u001b[0m\u001b[0m_decision_function\u001b[0m\u001b[1;33m(\u001b[0m\u001b[0mX\u001b[0m\u001b[1;33m)\u001b[0m\u001b[1;33m\u001b[0m\u001b[1;33m\u001b[0m\u001b[0m\n\u001b[0m\u001b[0;32m    237\u001b[0m \u001b[1;33m\u001b[0m\u001b[0m\n\u001b[0;32m    238\u001b[0m     \u001b[0m_preprocess_data\u001b[0m \u001b[1;33m=\u001b[0m \u001b[0mstaticmethod\u001b[0m\u001b[1;33m(\u001b[0m\u001b[0m_preprocess_data\u001b[0m\u001b[1;33m)\u001b[0m\u001b[1;33m\u001b[0m\u001b[1;33m\u001b[0m\u001b[0m\n",
      "\u001b[1;32m~\\anaconda3\\lib\\site-packages\\sklearn\\linear_model\\_base.py\u001b[0m in \u001b[0;36m_decision_function\u001b[1;34m(self, X)\u001b[0m\n\u001b[0;32m    214\u001b[0m \u001b[1;33m\u001b[0m\u001b[0m\n\u001b[0;32m    215\u001b[0m     \u001b[1;32mdef\u001b[0m \u001b[0m_decision_function\u001b[0m\u001b[1;33m(\u001b[0m\u001b[0mself\u001b[0m\u001b[1;33m,\u001b[0m \u001b[0mX\u001b[0m\u001b[1;33m)\u001b[0m\u001b[1;33m:\u001b[0m\u001b[1;33m\u001b[0m\u001b[1;33m\u001b[0m\u001b[0m\n\u001b[1;32m--> 216\u001b[1;33m         \u001b[0mcheck_is_fitted\u001b[0m\u001b[1;33m(\u001b[0m\u001b[0mself\u001b[0m\u001b[1;33m)\u001b[0m\u001b[1;33m\u001b[0m\u001b[1;33m\u001b[0m\u001b[0m\n\u001b[0m\u001b[0;32m    217\u001b[0m \u001b[1;33m\u001b[0m\u001b[0m\n\u001b[0;32m    218\u001b[0m         \u001b[0mX\u001b[0m \u001b[1;33m=\u001b[0m \u001b[0mcheck_array\u001b[0m\u001b[1;33m(\u001b[0m\u001b[0mX\u001b[0m\u001b[1;33m,\u001b[0m \u001b[0maccept_sparse\u001b[0m\u001b[1;33m=\u001b[0m\u001b[1;33m[\u001b[0m\u001b[1;34m'csr'\u001b[0m\u001b[1;33m,\u001b[0m \u001b[1;34m'csc'\u001b[0m\u001b[1;33m,\u001b[0m \u001b[1;34m'coo'\u001b[0m\u001b[1;33m]\u001b[0m\u001b[1;33m)\u001b[0m\u001b[1;33m\u001b[0m\u001b[1;33m\u001b[0m\u001b[0m\n",
      "\u001b[1;32m~\\anaconda3\\lib\\site-packages\\sklearn\\utils\\validation.py\u001b[0m in \u001b[0;36minner_f\u001b[1;34m(*args, **kwargs)\u001b[0m\n\u001b[0;32m     71\u001b[0m                           FutureWarning)\n\u001b[0;32m     72\u001b[0m         \u001b[0mkwargs\u001b[0m\u001b[1;33m.\u001b[0m\u001b[0mupdate\u001b[0m\u001b[1;33m(\u001b[0m\u001b[1;33m{\u001b[0m\u001b[0mk\u001b[0m\u001b[1;33m:\u001b[0m \u001b[0marg\u001b[0m \u001b[1;32mfor\u001b[0m \u001b[0mk\u001b[0m\u001b[1;33m,\u001b[0m \u001b[0marg\u001b[0m \u001b[1;32min\u001b[0m \u001b[0mzip\u001b[0m\u001b[1;33m(\u001b[0m\u001b[0msig\u001b[0m\u001b[1;33m.\u001b[0m\u001b[0mparameters\u001b[0m\u001b[1;33m,\u001b[0m \u001b[0margs\u001b[0m\u001b[1;33m)\u001b[0m\u001b[1;33m}\u001b[0m\u001b[1;33m)\u001b[0m\u001b[1;33m\u001b[0m\u001b[1;33m\u001b[0m\u001b[0m\n\u001b[1;32m---> 73\u001b[1;33m         \u001b[1;32mreturn\u001b[0m \u001b[0mf\u001b[0m\u001b[1;33m(\u001b[0m\u001b[1;33m**\u001b[0m\u001b[0mkwargs\u001b[0m\u001b[1;33m)\u001b[0m\u001b[1;33m\u001b[0m\u001b[1;33m\u001b[0m\u001b[0m\n\u001b[0m\u001b[0;32m     74\u001b[0m     \u001b[1;32mreturn\u001b[0m \u001b[0minner_f\u001b[0m\u001b[1;33m\u001b[0m\u001b[1;33m\u001b[0m\u001b[0m\n\u001b[0;32m     75\u001b[0m \u001b[1;33m\u001b[0m\u001b[0m\n",
      "\u001b[1;32m~\\anaconda3\\lib\\site-packages\\sklearn\\utils\\validation.py\u001b[0m in \u001b[0;36mcheck_is_fitted\u001b[1;34m(estimator, attributes, msg, all_or_any)\u001b[0m\n\u001b[0;32m   1018\u001b[0m \u001b[1;33m\u001b[0m\u001b[0m\n\u001b[0;32m   1019\u001b[0m     \u001b[1;32mif\u001b[0m \u001b[1;32mnot\u001b[0m \u001b[0mattrs\u001b[0m\u001b[1;33m:\u001b[0m\u001b[1;33m\u001b[0m\u001b[1;33m\u001b[0m\u001b[0m\n\u001b[1;32m-> 1020\u001b[1;33m         \u001b[1;32mraise\u001b[0m \u001b[0mNotFittedError\u001b[0m\u001b[1;33m(\u001b[0m\u001b[0mmsg\u001b[0m \u001b[1;33m%\u001b[0m \u001b[1;33m{\u001b[0m\u001b[1;34m'name'\u001b[0m\u001b[1;33m:\u001b[0m \u001b[0mtype\u001b[0m\u001b[1;33m(\u001b[0m\u001b[0mestimator\u001b[0m\u001b[1;33m)\u001b[0m\u001b[1;33m.\u001b[0m\u001b[0m__name__\u001b[0m\u001b[1;33m}\u001b[0m\u001b[1;33m)\u001b[0m\u001b[1;33m\u001b[0m\u001b[1;33m\u001b[0m\u001b[0m\n\u001b[0m\u001b[0;32m   1021\u001b[0m \u001b[1;33m\u001b[0m\u001b[0m\n\u001b[0;32m   1022\u001b[0m \u001b[1;33m\u001b[0m\u001b[0m\n",
      "\u001b[1;31mNotFittedError\u001b[0m: This LinearRegression instance is not fitted yet. Call 'fit' with appropriate arguments before using this estimator."
     ]
    }
   ],
   "source": [
    "y_pred = regr.predict(X_test_new)\n",
    "y_pred"
   ]
  },
  {
   "cell_type": "code",
   "execution_count": 323,
   "metadata": {},
   "outputs": [],
   "source": [
    "#create new results dataframe\n",
    "results_df = pd.DataFrame(y_pred)"
   ]
  },
  {
   "cell_type": "code",
   "execution_count": 324,
   "metadata": {},
   "outputs": [
    {
     "name": "stdout",
     "output_type": "stream",
     "text": [
      "          0\n",
      "0  1.034560\n",
      "1  1.208967\n",
      "2  1.034560\n",
      "3  0.049095\n",
      "4  1.049203\n",
      "<class 'pandas.core.frame.DataFrame'>\n",
      "RangeIndex: 753 entries, 0 to 752\n",
      "Data columns (total 1 columns):\n",
      " #   Column  Non-Null Count  Dtype  \n",
      "---  ------  --------------  -----  \n",
      " 0   0       753 non-null    float64\n",
      "dtypes: float64(1)\n",
      "memory usage: 6.0 KB\n",
      "None\n"
     ]
    }
   ],
   "source": [
    "print(results_df.head())\n",
    "print(results_df.info())"
   ]
  },
  {
   "cell_type": "code",
   "execution_count": null,
   "metadata": {},
   "outputs": [],
   "source": []
  },
  {
   "cell_type": "code",
   "execution_count": 325,
   "metadata": {},
   "outputs": [],
   "source": [
    "output = pd.DataFrame()\n",
    "output['ID'] = X_test['ID']\n",
    "output['Expected'] = y_pred\n",
    "output.to_csv('output5.csv', index = False)\n"
   ]
  },
  {
   "cell_type": "code",
   "execution_count": 54,
   "metadata": {},
   "outputs": [
    {
     "name": "stdout",
     "output_type": "stream",
     "text": [
      "27       95\n",
      "29      172\n",
      "30      246\n",
      "31      290\n",
      "32      326\n",
      "       ... \n",
      "743    7812\n",
      "745    7876\n",
      "748    8059\n",
      "749    8093\n",
      "751    8145\n",
      "Name: ID, Length: 333, dtype: int64\n"
     ]
    }
   ],
   "source": []
  },
  {
   "cell_type": "code",
   "execution_count": 56,
   "metadata": {},
   "outputs": [],
   "source": []
  },
  {
   "cell_type": "code",
   "execution_count": 60,
   "metadata": {},
   "outputs": [
    {
     "name": "stdout",
     "output_type": "stream",
     "text": [
      "             0       ID\n",
      "0    -0.099819      NaN\n",
      "1    -0.092064      NaN\n",
      "2     0.066011      NaN\n",
      "3     6.746447      NaN\n",
      "4    -0.118870      NaN\n",
      "..         ...      ...\n",
      "352   0.603566      NaN\n",
      "353  20.507660  14342.0\n",
      "354   1.095071      NaN\n",
      "355   0.480422      NaN\n",
      "356   1.821252      NaN\n",
      "\n",
      "[357 rows x 2 columns]\n"
     ]
    }
   ],
   "source": [
    "print(results_df)"
   ]
  },
  {
   "cell_type": "code",
   "execution_count": null,
   "metadata": {},
   "outputs": [],
   "source": []
  }
 ],
 "metadata": {
  "kernelspec": {
   "display_name": "Python 3",
   "language": "python",
   "name": "python3"
  },
  "language_info": {
   "codemirror_mode": {
    "name": "ipython",
    "version": 3
   },
   "file_extension": ".py",
   "mimetype": "text/x-python",
   "name": "python",
   "nbconvert_exporter": "python",
   "pygments_lexer": "ipython3",
   "version": "3.8.3"
  }
 },
 "nbformat": 4,
 "nbformat_minor": 4
}
