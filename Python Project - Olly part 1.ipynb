{
 "cells": [
  {
   "cell_type": "code",
   "execution_count": 80,
   "id": "2388f296",
   "metadata": {},
   "outputs": [],
   "source": [
    "import pandas\n",
    "import numpy as np\n",
    "import matplotlib.pyplot as plt\n",
    "import seaborn as sns\n",
    "from scipy.stats import probplot\n",
    "import sklearn\n",
    "\n",
    "plt.style.use(r\"D:\\University\\Internship Summer 2022\\Datern Training\\Python\\Datern.mplstyle\")\n",
    "\n",
    "# Inputting and cleaning data \n",
    "df = pd.read_csv(r\"D:\\University\\Internship Summer 2022\\Datern Training\\Week 2 project\\Kaggle Datern - Training Set.csv\")\n",
    "df.reset_index(drop=True)\n",
    "df_populated =testdata.dropna()\n",
    "df_populated_indexed = df_populated.reset_index(drop=True)\n",
    "\n",
    "# Encoding Platform\n",
    "from sklearn.preprocessing import LabelEncoder\n",
    "labelencoder1 = LabelEncoder()\n",
    "df_populated_indexed.iloc[:, 2] = labelencoder1.fit_transform(df_populated_indexed.iloc[:, 2])\n",
    "\n",
    "# Encoding Genre\n",
    "from sklearn.preprocessing import LabelEncoder\n",
    "labelencoder1 = LabelEncoder()\n",
    "df_populated_indexed.iloc[:, 4] = labelencoder1.fit_transform(df_populated_indexed.iloc[:, 4])\n",
    "\n",
    "# Encoding Publisher - note: lots of different publishers\n",
    "from sklearn.preprocessing import LabelEncoder\n",
    "labelencoder1 = LabelEncoder()\n",
    "df_populated_indexed.iloc[:, 5] = labelencoder1.fit_transform(df_populated_indexed.iloc[:, 5])\n",
    "\n",
    "# Encoding Developer  - note: lots of different developers\n",
    "from sklearn.preprocessing import LabelEncoder\n",
    "labelencoder1 = LabelEncoder()\n",
    "df_populated_indexed.iloc[:, 12] = labelencoder1.fit_transform(df_populated_indexed.iloc[:, 12])\n",
    "\n",
    "# Encoding rating \n",
    "from sklearn.preprocessing import LabelEncoder\n",
    "labelencoder1 = LabelEncoder()\n",
    "df_populated_indexed.iloc[:, 13] = labelencoder1.fit_transform(df_populated_indexed.iloc[:, 13])"
   ]
  }
 ],
 "metadata": {
  "kernelspec": {
   "display_name": "Python 3 (ipykernel)",
   "language": "python",
   "name": "python3"
  },
  "language_info": {
   "codemirror_mode": {
    "name": "ipython",
    "version": 3
   },
   "file_extension": ".py",
   "mimetype": "text/x-python",
   "name": "python",
   "nbconvert_exporter": "python",
   "pygments_lexer": "ipython3",
   "version": "3.9.12"
  }
 },
 "nbformat": 4,
 "nbformat_minor": 5
}
