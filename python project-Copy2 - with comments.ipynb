{
 "cells": [
  {
   "cell_type": "code",
   "execution_count": 419,
   "metadata": {},
   "outputs": [],
   "source": [
    "import matplotlib.pyplot as plt\n",
    "import seaborn as sns\n",
    "plt.style.use('/Users/Oller/Downloads/Datern.mplstyle')\n",
    "\n",
    "import numpy as np\n",
    "import pandas as pd\n",
    "\n",
    "#Gradient colours\n",
    "from matplotlib.colors import LinearSegmentedColormap\n",
    "nodes = [0, 0.5,1.0]\n",
    "color = ['#00ACF0','#ffffff','#A834FF']\n",
    "cmap = LinearSegmentedColormap.from_list(\"\", list(zip(nodes, color)))\n",
    "\n",
    "%config InlineBackend.figure_format='retina'"
   ]
  },
  {
   "cell_type": "code",
   "execution_count": 420,
   "metadata": {},
   "outputs": [],
   "source": [
    "df = pd.read_csv(\"/Users/Oller/Downloads/Kaggle_Datern_Training_Set.csv\")"
   ]
  },
  {
   "cell_type": "code",
   "execution_count": 421,
   "metadata": {},
   "outputs": [
    {
     "name": "stdout",
     "output_type": "stream",
     "text": [
      "<class 'pandas.core.frame.DataFrame'>\n",
      "RangeIndex: 15966 entries, 0 to 15965\n",
      "Data columns (total 14 columns):\n",
      " #   Column           Non-Null Count  Dtype  \n",
      "---  ------           --------------  -----  \n",
      " 0   ID               15966 non-null  int64  \n",
      " 1   Name             15964 non-null  object \n",
      " 2   Platform         15966 non-null  object \n",
      " 3   Year_of_Release  15720 non-null  float64\n",
      " 4   Genre            15964 non-null  object \n",
      " 5   Publisher        15918 non-null  object \n",
      " 6   EU_Sales         15966 non-null  float64\n",
      " 7   Global_Sales     15966 non-null  float64\n",
      " 8   Critic_Score     7771 non-null   float64\n",
      " 9   Critic_Count     7771 non-null   float64\n",
      " 10  User_Score       9545 non-null   object \n",
      " 11  User_Count       7161 non-null   float64\n",
      " 12  Developer        9608 non-null   object \n",
      " 13  Rating           9496 non-null   object \n",
      "dtypes: float64(6), int64(1), object(7)\n",
      "memory usage: 1.7+ MB\n"
     ]
    }
   ],
   "source": [
    "df.head()\n",
    "df.info()\n"
   ]
  },
  {
   "cell_type": "code",
   "execution_count": 422,
   "metadata": {},
   "outputs": [],
   "source": [
    "\n",
    "df = pd.read_csv(\"/Users/Oller/Downloads/Kaggle_Datern_Training_Set.csv\")\n"
   ]
  },
  {
   "cell_type": "code",
   "execution_count": 423,
   "metadata": {},
   "outputs": [],
   "source": [
    "#replacing none values with the most common publisher\n",
    "df['Publisher'] = df['Publisher'].replace(to_replace='Null',value = 'EA' )\n",
    "#replacing none values with most common genre\n",
    "df['Genre'] = df['Genre'].replace(to_replace='',value = 'Action' )\n",
    "#dropping columns not needed in the model\n",
    "df = df.drop(['Developer'], axis=1)\n",
    "df = df.drop(['Year_of_Release'], axis =1)\n",
    "df = df.drop(['Name'], axis=1)\n",
    "df = df.drop(['User_Count'], axis=1)\n",
    "df = df.drop(['Rating'], axis=1)\n",
    "df=df.drop(['Publisher'], axis=1)\n",
    "\n",
    "#filling in the empty critic score and critic count with the mean for those columns\n",
    "df['Critic_Score'] = df['Critic_Score'].fillna(73.76776)\n",
    "df['Critic_Count'] = df['Critic_Count'].fillna(33.96)\n",
    "\n",
    "#replacing entries that were ' tbd' with the mean value\n",
    "df['User_Score'] = df['User_Score'].replace(to_replace='tbd',value = '6.612587')\n",
    "df['User_Score'] = df['User_Score'].fillna(6.612587)\n",
    "\n",
    "#these columns had no genre so are dropped from the training set\n",
    "df = df.drop([15601, 15659])"
   ]
  },
  {
   "cell_type": "code",
   "execution_count": 424,
   "metadata": {},
   "outputs": [
    {
     "name": "stdout",
     "output_type": "stream",
     "text": [
      "<class 'pandas.core.frame.DataFrame'>\n",
      "Int64Index: 15964 entries, 0 to 15965\n",
      "Data columns (total 8 columns):\n",
      " #   Column        Non-Null Count  Dtype  \n",
      "---  ------        --------------  -----  \n",
      " 0   ID            15964 non-null  int64  \n",
      " 1   Platform      15964 non-null  object \n",
      " 2   Genre         15964 non-null  object \n",
      " 3   EU_Sales      15964 non-null  float64\n",
      " 4   Global_Sales  15964 non-null  float64\n",
      " 5   Critic_Score  15964 non-null  float64\n",
      " 6   Critic_Count  15964 non-null  float64\n",
      " 7   User_Score    15964 non-null  object \n",
      "dtypes: float64(4), int64(1), object(3)\n",
      "memory usage: 1.1+ MB\n"
     ]
    }
   ],
   "source": [
    "df.head()\n",
    "df.info()"
   ]
  },
  {
   "cell_type": "code",
   "execution_count": 425,
   "metadata": {},
   "outputs": [],
   "source": [
    "\n",
    "\n",
    "#encoding data for platform genre and rating\n",
    "# Encoding Platform\n",
    "from sklearn.preprocessing import LabelEncoder\n",
    "labelencoder1 = LabelEncoder()\n",
    "df.iloc[:, 1] = labelencoder1.fit_transform(df.iloc[:, 1])\n",
    "\n",
    "\n",
    "#encoding genre\n",
    "labelencoder1 = LabelEncoder()\n",
    "df.iloc[:, 2] = labelencoder1.fit_transform(df.iloc[:, 2])\n",
    "\n"
   ]
  },
  {
   "cell_type": "code",
   "execution_count": null,
   "metadata": {},
   "outputs": [],
   "source": []
  },
  {
   "cell_type": "code",
   "execution_count": 426,
   "metadata": {},
   "outputs": [
    {
     "name": "stdout",
     "output_type": "stream",
     "text": [
      "    ID  Platform  Genre  EU_Sales  Global_Sales  Critic_Score  Critic_Count  \\\n",
      "0  184        16     10      0.26          5.23      94.00000         29.00   \n",
      "1  378        16     10      2.36          3.49      84.00000         20.00   \n",
      "2  457        26      0      0.97          3.06      74.00000         17.00   \n",
      "3  476        16      2      1.02          3.00      73.76776         33.96   \n",
      "4  610         0      8      0.14          2.53      73.76776         33.96   \n",
      "\n",
      "   User_Score  \n",
      "0    8.500000  \n",
      "1    6.400000  \n",
      "2    7.900000  \n",
      "3    6.612587  \n",
      "4    6.612587  \n",
      "<class 'pandas.core.frame.DataFrame'>\n",
      "Int64Index: 15964 entries, 0 to 15965\n",
      "Data columns (total 8 columns):\n",
      " #   Column        Non-Null Count  Dtype  \n",
      "---  ------        --------------  -----  \n",
      " 0   ID            15964 non-null  int64  \n",
      " 1   Platform      15964 non-null  int32  \n",
      " 2   Genre         15964 non-null  int32  \n",
      " 3   EU_Sales      15964 non-null  float64\n",
      " 4   Global_Sales  15964 non-null  float64\n",
      " 5   Critic_Score  15964 non-null  float64\n",
      " 6   Critic_Count  15964 non-null  float64\n",
      " 7   User_Score    15964 non-null  float64\n",
      "dtypes: float64(5), int32(2), int64(1)\n",
      "memory usage: 997.8 KB\n"
     ]
    }
   ],
   "source": [
    "#add a new column with EU_Sales * User_Score\n",
    "df['User_Score']= df.User_Score.astype(float)\n",
    "#df['EU_Sales_x_Score'] = df['EU_Sales']* df['User_Score']\n",
    "#this didn't work so didnt include it in the regression\n",
    "print(df.head())\n",
    "df.info()"
   ]
  },
  {
   "cell_type": "code",
   "execution_count": 427,
   "metadata": {},
   "outputs": [
    {
     "name": "stdout",
     "output_type": "stream",
     "text": [
      "       Platform  Genre  EU_Sales  Critic_Score  Critic_Count  User_Score\n",
      "0            16     10      0.26      94.00000         29.00    8.500000\n",
      "1            16     10      2.36      84.00000         20.00    6.400000\n",
      "2            26      0      0.97      74.00000         17.00    7.900000\n",
      "3            16      2      1.02      73.76776         33.96    6.612587\n",
      "4             0      8      0.14      73.76776         33.96    6.612587\n",
      "...         ...    ...       ...           ...           ...         ...\n",
      "15961         0      2      0.04      73.76776         33.96    6.612587\n",
      "15962         0     10      0.03      73.76776         33.96    6.612587\n",
      "15963         0      0      0.02      73.76776         33.96    6.612587\n",
      "15964         0      3      0.02      73.76776         33.96    6.612587\n",
      "15965         0      3      0.01      73.76776         33.96    6.612587\n",
      "\n",
      "[15964 rows x 6 columns]\n"
     ]
    }
   ],
   "source": [
    "#separating into response matrix (x) and vector of targets(y)\n",
    "\n",
    "#Vector of targets(Y) is the global sales column\n",
    "Y = df.iloc[:,4]\n",
    "\n",
    "\n",
    "#removing global sales from the response matrix\n",
    "X = df.drop(['Global_Sales'], axis=1)\n",
    "#removed ID from the model\n",
    "X = X.drop(['ID'], axis=1)\n",
    "\n",
    "print(X)\n"
   ]
  },
  {
   "cell_type": "code",
   "execution_count": 428,
   "metadata": {},
   "outputs": [
    {
     "data": {
      "text/plain": [
       "LinearRegression()"
      ]
     },
     "execution_count": 428,
     "metadata": {},
     "output_type": "execute_result"
    }
   ],
   "source": [
    "from sklearn.linear_model import LinearRegression\n",
    "# Create linear regression object\n",
    "regr = LinearRegression()\n",
    "\n",
    "# Train the model using the training sets\n",
    "regr.fit(X, Y)"
   ]
  },
  {
   "cell_type": "code",
   "execution_count": 429,
   "metadata": {},
   "outputs": [],
   "source": [
    "X_test = pd.read_csv(\"/Users/Oller/Downloads/Kaggle_Datern_Test_Set.csv\")"
   ]
  },
  {
   "cell_type": "code",
   "execution_count": 430,
   "metadata": {},
   "outputs": [
    {
     "name": "stdout",
     "output_type": "stream",
     "text": [
      "        ID Platform         Genre  EU_Sales  Critic_Score  Critic_Count  \\\n",
      "0    15707       DS          Misc      0.00           NaN           NaN   \n",
      "1    15757      PS2  Role-Playing      0.01          53.0          17.0   \n",
      "2    15798       DS          Misc      0.00           NaN           NaN   \n",
      "3    15819       XB       Shooter      0.00          45.0          25.0   \n",
      "4    15956       DS        Sports      0.00           NaN           NaN   \n",
      "..     ...      ...           ...       ...           ...           ...   \n",
      "748   8059      PS4      Fighting      0.12          59.0          30.0   \n",
      "749   8093      PSV        Action      0.02          71.0           4.0   \n",
      "750   8142     XOne       Shooter      0.07           NaN           NaN   \n",
      "751   8145      PS4        Action      0.00          67.0          25.0   \n",
      "752   8192      PS4     Adventure      0.05           NaN           NaN   \n",
      "\n",
      "    User_Score  \n",
      "0          NaN  \n",
      "1          7.6  \n",
      "2          NaN  \n",
      "3            2  \n",
      "4          NaN  \n",
      "..         ...  \n",
      "748        7.8  \n",
      "749        7.4  \n",
      "750        NaN  \n",
      "751          8  \n",
      "752        7.1  \n",
      "\n",
      "[753 rows x 7 columns]\n"
     ]
    }
   ],
   "source": [
    "\n",
    "\n",
    "X_test_new = X_test.iloc[:, 0:10]\n",
    "\n",
    "X_test_new = X_test_new.drop(['Name', 'Year_of_Release', 'Publisher'], axis=1)\n",
    "\n",
    "\n",
    "print(X_test_new)\n",
    "X_test_new['User_Score'] = X_test_new['User_Score'].replace(to_replace='tbd',value = 6.612587)\n",
    "X_test_new['User_Score']= X_test_new.User_Score.astype(float)\n",
    "#X_test_new['EU_Sales_x_Score'] = X_test_new['EU_Sales']* X_test_new['User_Score']"
   ]
  },
  {
   "cell_type": "code",
   "execution_count": 431,
   "metadata": {},
   "outputs": [
    {
     "name": "stdout",
     "output_type": "stream",
     "text": [
      "Critic_Score    73.76776\n",
      "dtype: float64\n",
      "0      73.76776\n",
      "1      53.00000\n",
      "2      73.76776\n",
      "3      45.00000\n",
      "4      73.76776\n",
      "         ...   \n",
      "748    59.00000\n",
      "749    71.00000\n",
      "750    73.76776\n",
      "751    67.00000\n",
      "752    73.76776\n",
      "Name: Critic_Score, Length: 753, dtype: float64\n",
      "0    6.612587\n",
      "1    7.600000\n",
      "2    6.612587\n",
      "3    2.000000\n",
      "4    6.612587\n",
      "5    6.612587\n",
      "6    6.612587\n",
      "7    6.612587\n",
      "8    6.612587\n",
      "9    6.612587\n",
      "Name: User_Score, dtype: float64\n",
      "0      6.612587\n",
      "1      7.600000\n",
      "2      6.612587\n",
      "3      2.000000\n",
      "4      6.612587\n",
      "         ...   \n",
      "748    7.800000\n",
      "749    7.400000\n",
      "750    6.612587\n",
      "751    8.000000\n",
      "752    7.100000\n",
      "Name: User_Score, Length: 753, dtype: float64\n"
     ]
    }
   ],
   "source": [
    "\n",
    "#calculate mean critic score and user score, replace NaN with mean \n",
    "Critic_Score_mean = X_test_new[['Critic_Score']].mean()\n",
    "print(Critic_Score_mean)\n",
    "\n",
    "\n",
    "#repopulate the NaN values with the mean critic score\n",
    "X_test_new['Critic_Score'] = X_test_new['Critic_Score'].fillna(73.76776)\n",
    "print(X_test_new['Critic_Score'])\n",
    "\n",
    "\n",
    "# calculate mean user score \n",
    "X_test_new['User_Score'] = X_test_new['User_Score'].fillna(6.612587)\n",
    "print(X_test_new['User_Score'].head(10))\n",
    "\n",
    "#convert 'tbd' to average\n",
    "X_test_new['User_Score'] = X_test_new['User_Score'].replace(to_replace='tbd',value = 6.612587 )\n",
    "\n",
    "#need to convert all values to float\n",
    "X_test_new['User_Score']= X_test_new.User_Score.astype(float)\n",
    "\n",
    "print(X_test_new['User_Score'])"
   ]
  },
  {
   "cell_type": "code",
   "execution_count": 432,
   "metadata": {},
   "outputs": [
    {
     "name": "stdout",
     "output_type": "stream",
     "text": [
      "        ID  Platform  Genre  EU_Sales  Critic_Score  Critic_Count  User_Score\n",
      "0    15707         1      3      0.00      73.76776           217    6.612587\n",
      "1    15757         4      7      0.01      53.00000            13    7.600000\n",
      "2    15798         1      3      0.00      73.76776           312    6.612587\n",
      "3    15819        12      8      0.00      45.00000            21    2.000000\n",
      "4    15956         1     10      0.00      73.76776           311    6.612587\n",
      "..     ...       ...    ...       ...           ...           ...         ...\n",
      "748   8059         6      2      0.12      59.00000            26    7.800000\n",
      "749   8093         8      0      0.02      71.00000             0    7.400000\n",
      "750   8142        13      8      0.07      73.76776            92    6.612587\n",
      "751   8145         6      0      0.00      67.00000            21    8.000000\n",
      "752   8192         6      1      0.05      73.76776           477    7.100000\n",
      "\n",
      "[753 rows x 7 columns]\n"
     ]
    }
   ],
   "source": [
    "#encode the test data\n",
    "# columns platform genre and rating need encoding as they are categorical\n",
    "labelencoder1 = LabelEncoder()\n",
    "#encoding platform in test data\n",
    "X_test_new.iloc[:, 1] = labelencoder1.fit_transform(X_test_new.iloc[:, 1])\n",
    "\n",
    "#encoding genre\n",
    "X_test_new.iloc[:, 2] = labelencoder1.fit_transform(X_test_new.iloc[:, 2])\n",
    "\n",
    "#encoding rating\n",
    "X_test_new.iloc[:, 5] = labelencoder1.fit_transform(X_test_new.iloc[:, 5])\n",
    "\n",
    "print(X_test_new)\n",
    "X_test_new = X_test_new.drop(['ID'], axis=1)\n",
    "\n"
   ]
  },
  {
   "cell_type": "code",
   "execution_count": 433,
   "metadata": {},
   "outputs": [
    {
     "data": {
      "text/plain": [
       "array([ 8.51410606e-01,  1.40717655e-01,  1.19741965e+00, -1.93545638e-02,\n",
       "        1.21496855e+00,  2.36512112e-02,  1.20829905e+00,  1.18649305e+00,\n",
       "        1.18720658e+00,  1.19887543e+00,  5.33821092e-02, -9.10308933e-02,\n",
       "        9.36950307e-02,  3.21730562e-01,  1.17859375e+00,  1.14252396e+00,\n",
       "        1.15401826e+00,  1.16498893e+00,  4.26758555e-02,  9.58659893e-02,\n",
       "        6.38895801e-02,  1.14318293e+00,  7.85299569e-02,  1.17551925e+00,\n",
       "        1.15112230e+00,  1.19259085e+00,  1.12040894e+00,  1.62048836e+01,\n",
       "        5.19985105e+00,  7.40923073e+00,  5.83011856e+00,  6.21058645e+00,\n",
       "        5.03110114e+00,  5.91372006e+00,  2.07261495e+00,  3.81178403e+00,\n",
       "        2.35918327e+00,  2.05554385e+00,  2.53450965e+00,  9.94072535e-01,\n",
       "        3.22451410e+00,  6.22675027e-01,  2.40164025e+00,  1.60299733e+00,\n",
       "        3.24604507e+00,  3.05938031e+00,  1.57093351e+00,  1.12571817e+00,\n",
       "        2.77030894e+00,  1.90436847e-01,  1.54479669e+00,  1.97607951e+00,\n",
       "        1.98004030e+00,  1.00628606e+00,  1.15746424e+00,  2.69154338e-01,\n",
       "        1.03188678e+00,  2.58124713e+00,  1.55314117e+00,  7.31670702e-01,\n",
       "        1.01000408e+00,  1.09715139e+00,  1.01879756e+00,  1.79404657e+00,\n",
       "        1.00627561e+00,  1.84312900e+00,  2.57435715e+00,  1.24494334e+00,\n",
       "        9.99264616e-01,  1.46902724e+00,  1.55379581e+00,  1.71613201e+00,\n",
       "        1.15958386e+00,  1.11777167e+00,  8.28595530e-01,  1.18456704e+00,\n",
       "        6.04295193e-01,  1.09293836e+00,  9.06245101e-01,  9.73409090e-01,\n",
       "        1.72568227e+00,  7.71352395e-01,  7.15733255e-01,  1.06312207e+00,\n",
       "        1.56094974e+00,  6.75809817e-01,  5.63542501e-01,  1.02024367e+00,\n",
       "        5.80462905e-01,  1.51239094e+00,  5.86585836e-01,  3.86269499e-01,\n",
       "        6.53226420e-01,  2.01477324e+00,  9.59967745e-01,  8.78432134e-01,\n",
       "        1.97387180e+00,  1.76407945e+00,  1.30773692e+00,  7.74125715e-01,\n",
       "        1.07692099e+00,  1.00819221e+00,  6.07880880e-01,  5.16465609e-01,\n",
       "        6.94968458e-01,  5.74801057e-01,  3.63503368e-01,  6.12661512e-01,\n",
       "        9.75009371e-01,  1.66140704e+00,  7.32427034e-01,  3.56002418e-01,\n",
       "        1.55133622e+00,  7.60707845e-01,  1.54599512e+00,  5.44841898e-01,\n",
       "        2.95685001e-01,  2.55147834e-01,  1.28728806e+00,  4.16110004e-01,\n",
       "        6.89556907e-01,  1.26833481e+00,  1.28233279e+00,  1.56768605e+00,\n",
       "        1.27807569e+00,  1.56493312e+00,  6.14469055e-01,  3.78169554e-01,\n",
       "        4.68518004e-01,  5.92618820e-01,  7.35455015e-01,  8.57715727e-02,\n",
       "        1.72762139e+00,  6.40409332e-01,  3.03607026e-01,  1.24060155e+00,\n",
       "        7.61129317e-01,  1.26403052e+00,  1.25683738e+00,  3.24883417e-01,\n",
       "        1.63098107e+00,  1.22408276e-01,  2.73883621e-01,  1.65757519e-01,\n",
       "        5.18354963e-01,  1.39248375e+00,  1.27315649e+00,  1.69851984e+00,\n",
       "        2.41811515e-01,  3.85497005e-01,  1.22392624e+00,  1.25617529e+00,\n",
       "        1.20782175e+00,  3.02608268e-01,  3.23786357e-01,  2.36794347e-01,\n",
       "        1.51695706e+00,  1.23081036e+00,  2.63011543e-01,  1.13441696e+00,\n",
       "        1.22940601e+00,  2.79864506e-01,  3.61143774e-01,  2.94868930e-01,\n",
       "        1.47719050e+00,  1.19487591e+00,  3.02662398e-01,  2.21610293e-01,\n",
       "        3.36089262e-01,  1.62179042e-01,  4.21932939e-01,  2.60952315e-01,\n",
       "        3.88302608e-01,  4.09373079e-01,  4.28966759e-01,  1.24064170e+00,\n",
       "        1.62927777e-01,  1.79371748e-01,  2.56431429e-01,  3.17863986e-01,\n",
       "        2.50857603e-01,  1.29159236e+00,  1.07095382e+00,  1.64654695e-01,\n",
       "        6.90874583e-01,  1.24719971e+00,  9.72640531e-01,  1.12220672e+00,\n",
       "        3.51050186e-01,  1.15020151e+00,  9.64799250e-01,  1.16314998e+00,\n",
       "        9.12803514e-01,  2.49445732e-01,  5.48561012e-01,  8.67507926e-02,\n",
       "        1.08593538e+00,  1.07074487e+00,  2.47916848e-01,  3.60005326e-01,\n",
       "        9.31888104e-01,  9.10082099e-01,  8.95900990e-01,  9.20961503e-01,\n",
       "        9.26401205e-01,  3.66067081e-01,  8.78006353e-01,  1.29033512e-01,\n",
       "        9.13677102e-01,  8.76381510e-01,  5.32457431e-01,  2.04308730e-01,\n",
       "        3.51056402e-01,  1.00569610e+00,  1.08515817e+00,  8.71334966e-01,\n",
       "        8.85332937e-01,  3.00089695e-01,  2.72793104e-01,  8.91296272e-01,\n",
       "        8.54528307e-01,  8.56766164e-01,  1.02601469e+00,  1.66773079e-01,\n",
       "        1.08683821e-01,  1.01405935e+00,  8.54921465e-01,  8.57508411e-01,\n",
       "        1.98850535e-01,  4.12070634e-01,  9.96098800e-01,  9.99281043e-01,\n",
       "        3.15456277e-01,  1.08096787e+00,  9.41941118e-01,  1.82258984e-01,\n",
       "        1.09387051e+00,  1.18435731e+00,  1.08086524e+00,  1.04980279e+00,\n",
       "        1.07946090e+00,  1.40564543e-01,  2.92778315e-01,  1.04857299e+00,\n",
       "        1.06281654e-01,  3.10355380e-01,  1.26428096e+00,  1.17995089e+00,\n",
       "        1.03485932e-01,  1.83181236e-01,  1.06676352e+00,  1.84549856e-01,\n",
       "        2.83540739e-01,  1.05467166e+00,  1.61241708e-01,  5.15025934e-01,\n",
       "        1.08905395e+00,  3.04182207e-01,  1.78933146e-01,  1.02386703e+00,\n",
       "        2.18400503e-01,  1.02904491e+00,  1.07454040e+00,  2.97155837e-01,\n",
       "        6.64518337e-02,  1.85405788e-01,  1.82480810e-01,  1.02737875e+00,\n",
       "        2.81164306e-01,  1.00903641e+00,  1.06550188e+00,  9.92931924e-01,\n",
       "        1.01636089e+00,  4.43238507e-02,  1.04246806e+00,  1.00855285e+00,\n",
       "        1.03757872e+00,  1.04534754e+00,  9.76958779e-01,  2.09688668e-01,\n",
       "        1.08482045e+00,  9.84985426e-01,  2.96707348e-01,  9.75114080e-01,\n",
       "        4.50220280e-02,  3.51970228e-01,  9.62389977e-01,  9.52867719e-01,\n",
       "        1.07257677e+00,  1.07968264e+00,  1.67491881e-01,  8.09525511e-02,\n",
       "        7.44857982e-02,  1.31542837e+00,  2.52003314e-01,  1.54693955e+00,\n",
       "        1.31809183e+00,  1.64124360e+00,  2.26016900e-01,  1.62290126e+00,\n",
       "        1.35034284e-01,  1.66405767e+00,  2.18853329e-01, -4.73749062e-03,\n",
       "        1.61749471e-01,  2.02361191e-01,  1.65686453e+00,  1.72820469e+00,\n",
       "        2.51393445e-01,  1.57902195e-01,  5.11639468e-02,  1.74041653e+00,\n",
       "        2.86535718e-01,  2.57497021e-01,  1.62821049e+00,  2.21357866e-01,\n",
       "        1.64835033e+00,  4.64758471e-02,  1.61210600e+00,  1.62863746e+00,\n",
       "        1.63483279e+00,  1.60117940e+00,  1.60661910e+00,  1.73045190e-01,\n",
       "        4.21228474e-01,  1.71603606e+00,  1.58403717e-01,  1.62044253e+00,\n",
       "        4.87774210e-02,  1.61921273e+00,  1.58884845e+00,  1.66901045e+00,\n",
       "        1.46072683e+00,  1.58994378e+00,  1.87589340e-01,  1.91675760e-01,\n",
       "        6.35079961e-02,  1.62441334e+00,  1.63930242e+00,  1.62274718e+00,\n",
       "        1.55747299e+00,  1.57735102e+00,  1.57370882e+00,  1.57681940e+00,\n",
       "        1.14024326e-01,  1.56642442e+00,  1.59613285e+00,  1.76501985e+00,\n",
       "        1.65822481e+00,  1.11795207e-01,  1.68288357e+00,  7.46707316e-02,\n",
       "        1.87792807e+00,  3.34411147e-01,  1.79039615e+00,  1.80411097e+00,\n",
       "        1.75638967e+00,  6.70241435e-02,  1.77393858e+00,  3.15883130e-01,\n",
       "        1.55570025e-01,  1.76441632e+00,  1.74261032e+00,  1.90071454e-01,\n",
       "        1.82047870e+00,  1.29636469e-01,  1.73229861e+00,  1.77336775e+00,\n",
       "        1.68658318e+00,  1.72725207e+00,  1.73892092e+00,  8.64474355e-03,\n",
       "        1.71408761e+00,  1.93447694e-01,  1.71347271e+00,  1.29772555e-01,\n",
       "        8.28418005e-01,  1.74358654e+00,  1.72435212e+00,  1.72070992e+00,\n",
       "        1.70469670e+00,  4.57643469e-02,  1.78707944e+00,  1.07338932e-01,\n",
       "        1.69447227e+00,  1.75269059e+00,  1.78782568e+00,  1.70724044e+00,\n",
       "        7.29135878e-02,  1.67402341e+00,  1.73974953e+00,  9.85488681e-02,\n",
       "        1.68170097e+00,  1.68099879e+00,  3.68859366e-02,  1.70416594e+00,\n",
       "        1.56045310e+00,  6.88314436e-02,  1.76810572e+00,  1.55058175e+00,\n",
       "        1.52833539e+00,  1.79163890e-01,  1.44119663e+00,  1.47806323e+00,\n",
       "        1.40603626e+00,  1.39945403e+00,  1.39295907e+00,  1.32973233e-01,\n",
       "        1.40419156e+00,  9.35992741e-02,  1.40383848e+00,  9.32776273e-02,\n",
       "        1.40607633e+00,  1.44542994e+00,  1.37474807e+00,  1.36807857e+00,\n",
       "        5.08973898e-02,  1.35881813e+00,  1.40337028e+00,  1.40191312e+00,\n",
       "        1.35153373e+00,  1.35289487e+00,  7.64269582e-02,  7.29017134e-02,\n",
       "        1.35574363e+00,  7.63953324e-03,  1.30868591e+00,  1.05658768e-01,\n",
       "        1.81229479e-01,  1.32424082e+00, -1.54575621e-02,  1.36842453e+00,\n",
       "        1.34955855e+00,  1.32801437e+00,  1.32437216e+00,  1.32375727e+00,\n",
       "        1.32011506e+00, -9.92155127e-02,  1.38692494e+00,  1.31283066e+00,\n",
       "        1.33991719e+00,  1.36544443e+00,  1.41766503e+00,  1.41845448e+00,\n",
       "        6.66882988e-02,  1.42209668e+00,  1.56770741e+00,  1.52407829e+00,\n",
       "        1.51740879e+00,  1.53495769e+00,  1.51600444e+00,  1.50950949e+00,\n",
       "        1.50872004e+00,  1.51415975e+00,  1.49555559e+00,  1.47721324e+00,\n",
       "        1.51535903e+00,  4.74603057e-02,  1.46992884e+00,  7.15085874e-02,\n",
       "        1.48989414e+00,  1.47734458e+00,  8.04960105e-02,  1.56970457e-01,\n",
       "        1.21473054e-01,  1.04103340e-01,  1.54957880e+00,  1.50703700e+00,\n",
       "        1.58865012e-01,  1.46944528e+00,  1.45715754e+00,  8.65403865e-02,\n",
       "        1.89878833e-01,  1.52895540e+00,  1.47901161e+00,  1.25990371e-01,\n",
       "        1.47687239e+00,  1.45123428e+00,  1.34862652e-01, -8.52658985e-02,\n",
       "        4.33149643e-02,  1.44456478e+00,  1.50166249e+00,  1.43728038e+00,\n",
       "        1.55891110e-01,  1.47665065e+00,  1.42999598e+00,  1.43223383e+00,\n",
       "        8.23154988e-02,  1.42271158e+00,  1.54546541e-01,  8.65185969e-01,\n",
       "        1.29826186e+00,  1.16761647e-01,  6.26736706e-01, -8.03240931e-02,\n",
       "        4.23344311e-01,  1.24473216e-01,  8.89518622e-02,  4.22773481e-01,\n",
       "        4.00876209e-01,  4.42599620e-01,  1.27064977e-01,  9.34540884e-02,\n",
       "        7.40872142e-02,  4.53271359e-01,  5.55260267e-01,  4.68729108e-01,\n",
       "        4.42344757e-01,  5.03961388e-01,  4.70704283e-01,  5.37047078e-01,\n",
       "        4.64812860e-01,  1.03303425e-01,  5.18890929e-01,  4.79381662e-01,\n",
       "        4.96199686e-01,  2.58671701e-01,  5.17837663e-02,  5.26598926e-01,\n",
       "        5.17470692e-01,  5.01234864e-01,  5.07904365e-01,  5.17339351e-01,\n",
       "        5.12161466e-01,  5.22473167e-01,  5.31908153e-01,  5.29757568e-01,\n",
       "        5.57618175e-01,  1.68994296e+01,  1.72201958e+01,  1.02454769e+01,\n",
       "        6.31973810e+00,  9.38205209e+00,  5.10357485e+00,  3.89664809e+00,\n",
       "        3.67549743e+00,  3.85043699e+00,  6.33159292e+00,  5.07350041e+00,\n",
       "        2.09473621e+00,  3.94775765e+00,  4.16324871e+00,  5.86820691e+00,\n",
       "        1.29226042e+00,  1.23095691e+00,  6.06465366e+00,  1.01703952e+00,\n",
       "        2.85625835e+00,  3.12796416e+00,  2.57118971e+00,  5.82562755e+00,\n",
       "        2.66759019e+00,  4.93977457e+00,  3.37990014e-01,  1.92663740e+00,\n",
       "        5.04840110e-01,  7.43287120e-01,  3.52526881e+00,  2.79588605e+00,\n",
       "        2.13230239e+00,  2.52451907e+00,  3.04341958e+00,  2.86140125e+00,\n",
       "        2.92718622e+00,  2.52267979e+00,  1.87934148e+00,  3.21443649e+00,\n",
       "        1.50396487e+00,  2.90909610e+00,  1.71959662e+00,  3.19400897e+00,\n",
       "        1.38226448e+00,  6.99360068e-01,  2.33010425e+00,  1.37520982e+00,\n",
       "        1.54398808e+00,  1.66642229e+00,  1.63571422e+00,  9.61398535e-01,\n",
       "        2.04108616e+00,  1.16834268e+00,  1.24403499e+00,  1.91449925e+00,\n",
       "        1.11740075e+00,  6.90445444e-01,  2.24285197e+00,  2.21672450e+00,\n",
       "        1.23406866e+00,  1.68101579e+00,  2.13650627e+00,  1.48589657e+00,\n",
       "        6.04622726e-01,  1.30512603e+00,  1.89893722e+00,  6.97996718e-01,\n",
       "        4.70947073e-01,  1.18289459e+00,  1.36616327e+00,  1.58653240e+00,\n",
       "        1.18213831e+00,  6.77727512e-01,  1.54529091e+00,  6.91634216e-01,\n",
       "        1.32472167e+00,  1.67059576e+00,  1.17264430e+00,  1.44608948e+00,\n",
       "        9.19687571e-01,  6.68306379e-01,  1.47818405e+00,  2.50112782e+00,\n",
       "        8.02231581e-01,  7.48584112e-01,  1.41571855e+00,  1.01154831e+00,\n",
       "        9.83907430e-01,  1.26531962e+00,  1.69878251e+00,  1.53558444e+00,\n",
       "        1.59394814e+00,  1.54477844e+00,  1.59943105e+00,  1.44607853e+00,\n",
       "        6.75352510e-01,  1.43571057e+00,  1.06478779e+00,  6.61281609e-01,\n",
       "        5.79207146e-01,  1.23441279e+00,  1.22772847e+00,  6.87778690e-01,\n",
       "        7.48388827e-01,  8.28356836e-01,  1.00905374e+00,  1.15144353e+00,\n",
       "        6.17197922e-01,  8.27997099e-01,  1.42144006e+00,  1.68321076e+00,\n",
       "        5.15694731e-01,  1.15410437e+00,  1.20886511e+00,  5.90980690e-01,\n",
       "        7.57351257e-01,  6.65065915e-01,  1.20594829e+00,  6.08394362e-01,\n",
       "        6.07003641e-01,  8.40647177e-01,  1.04545840e+00,  5.78141871e-01,\n",
       "        1.07576432e+00,  2.29517316e-01,  2.21612093e-01,  7.78658728e-01,\n",
       "        1.33206194e+00,  1.28484467e+00,  6.22755506e-01,  4.63499490e-01,\n",
       "        1.09079083e+00,  9.51441116e-01,  1.09203598e+00,  3.17580713e-01,\n",
       "        1.19092623e+00,  4.77412995e-01,  9.14358577e-01,  6.79462599e-01,\n",
       "        1.16552424e+00,  1.19100371e+00,  1.29297396e+00,  1.35236809e+00,\n",
       "        8.97082103e-01,  3.54050770e-01,  1.38983823e+00,  1.11328490e+00,\n",
       "        1.17350046e+00,  1.71577628e-01,  4.34201473e-01,  1.40146700e+00,\n",
       "        1.13952536e+00,  1.11702263e+00,  9.45965464e-01,  9.86206979e-01,\n",
       "        1.07587812e+00,  1.03535395e+00,  2.32644167e-01,  3.28723151e-01,\n",
       "        1.38725466e-01,  3.87022528e-01,  8.34009761e-01,  3.72495873e-01,\n",
       "        1.03429020e+00,  5.71779483e-01,  3.60926187e-01,  1.08439232e+00,\n",
       "        3.33140864e-01,  8.76036585e-01,  4.65310378e-01,  9.33974220e-01,\n",
       "        1.09227626e+00,  9.68945468e-01,  1.05829928e+00,  2.78367169e-01,\n",
       "        6.80446751e-01,  1.14746049e+00,  1.28804339e+00,  4.29474339e-01,\n",
       "        4.91951366e-01,  5.97233781e-01,  2.06605873e-01,  8.23270627e-01,\n",
       "        5.79439537e-01,  4.29926540e-01,  4.48196489e-01,  4.44334187e-01,\n",
       "        2.60861561e-01,  1.72234034e-01,  6.65174819e-01,  6.83205957e-01,\n",
       "        4.99130138e-01,  2.83532549e-01,  4.59195485e-01,  4.25887100e-01,\n",
       "        4.80112332e-01,  7.17426396e-01,  6.87293288e-01,  8.57812156e-01,\n",
       "        7.53094785e-01,  5.13377500e-01,  5.49535014e-01,  4.70364237e-01,\n",
       "        7.76757721e-01,  3.16810200e-01,  6.11866258e-01,  2.67213393e-01,\n",
       "        7.33776221e-01,  4.67991068e-01,  4.16056057e-01,  3.76196727e-01,\n",
       "        5.98384545e-01,  4.26415681e-01,  5.38341018e-01,  1.72789286e-01,\n",
       "        4.65499011e-01,  4.25363572e-01,  3.81042250e-01,  4.93961281e-01,\n",
       "        4.84817262e-01,  1.02789828e-01,  5.71123478e-01,  1.39307649e-01,\n",
       "        1.92852279e+00])"
      ]
     },
     "execution_count": 433,
     "metadata": {},
     "output_type": "execute_result"
    }
   ],
   "source": [
    "y_pred = regr.predict(X_test_new)\n",
    "y_pred"
   ]
  },
  {
   "cell_type": "code",
   "execution_count": 416,
   "metadata": {},
   "outputs": [],
   "source": [
    "#create new results dataframe\n",
    "results_df = pd.DataFrame(y_pred)"
   ]
  },
  {
   "cell_type": "code",
   "execution_count": 417,
   "metadata": {},
   "outputs": [
    {
     "name": "stdout",
     "output_type": "stream",
     "text": [
      "          0\n",
      "0  0.851411\n",
      "1  0.140718\n",
      "2  1.197420\n",
      "3 -0.019355\n",
      "4  1.214969\n",
      "<class 'pandas.core.frame.DataFrame'>\n",
      "RangeIndex: 753 entries, 0 to 752\n",
      "Data columns (total 1 columns):\n",
      " #   Column  Non-Null Count  Dtype  \n",
      "---  ------  --------------  -----  \n",
      " 0   0       753 non-null    float64\n",
      "dtypes: float64(1)\n",
      "memory usage: 6.0 KB\n",
      "None\n"
     ]
    }
   ],
   "source": [
    "print(results_df.head())\n",
    "print(results_df.info())"
   ]
  },
  {
   "cell_type": "code",
   "execution_count": null,
   "metadata": {},
   "outputs": [],
   "source": []
  },
  {
   "cell_type": "code",
   "execution_count": 418,
   "metadata": {},
   "outputs": [],
   "source": [
    "output = pd.DataFrame()\n",
    "output['ID'] = X_test['ID']\n",
    "output['Expected'] = y_pred\n",
    "output.to_csv('output6.csv', index = False)\n"
   ]
  },
  {
   "cell_type": "code",
   "execution_count": 54,
   "metadata": {},
   "outputs": [
    {
     "name": "stdout",
     "output_type": "stream",
     "text": [
      "27       95\n",
      "29      172\n",
      "30      246\n",
      "31      290\n",
      "32      326\n",
      "       ... \n",
      "743    7812\n",
      "745    7876\n",
      "748    8059\n",
      "749    8093\n",
      "751    8145\n",
      "Name: ID, Length: 333, dtype: int64\n"
     ]
    }
   ],
   "source": []
  },
  {
   "cell_type": "code",
   "execution_count": 56,
   "metadata": {},
   "outputs": [],
   "source": []
  },
  {
   "cell_type": "code",
   "execution_count": 60,
   "metadata": {},
   "outputs": [
    {
     "name": "stdout",
     "output_type": "stream",
     "text": [
      "             0       ID\n",
      "0    -0.099819      NaN\n",
      "1    -0.092064      NaN\n",
      "2     0.066011      NaN\n",
      "3     6.746447      NaN\n",
      "4    -0.118870      NaN\n",
      "..         ...      ...\n",
      "352   0.603566      NaN\n",
      "353  20.507660  14342.0\n",
      "354   1.095071      NaN\n",
      "355   0.480422      NaN\n",
      "356   1.821252      NaN\n",
      "\n",
      "[357 rows x 2 columns]\n"
     ]
    }
   ],
   "source": []
  },
  {
   "cell_type": "code",
   "execution_count": null,
   "metadata": {},
   "outputs": [],
   "source": []
  }
 ],
 "metadata": {
  "kernelspec": {
   "display_name": "Python 3",
   "language": "python",
   "name": "python3"
  },
  "language_info": {
   "codemirror_mode": {
    "name": "ipython",
    "version": 3
   },
   "file_extension": ".py",
   "mimetype": "text/x-python",
   "name": "python",
   "nbconvert_exporter": "python",
   "pygments_lexer": "ipython3",
   "version": "3.8.3"
  }
 },
 "nbformat": 4,
 "nbformat_minor": 4
}
